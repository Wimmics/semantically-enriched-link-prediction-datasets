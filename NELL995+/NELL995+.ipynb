{
 "cells": [
  {
   "cell_type": "markdown",
   "id": "75840861-9273-40b7-92c0-11f0aa254bc5",
   "metadata": {},
   "source": [
    "# NELL995 dataset semantically enriched"
   ]
  },
  {
   "cell_type": "code",
   "execution_count": 2,
   "id": "4d1087c4-7066-41a5-8971-bca36c7a2205",
   "metadata": {},
   "outputs": [],
   "source": [
    "from glob import glob\n",
    "from tqdm import tqdm\n",
    "from pickle import dump, load, HIGHEST_PROTOCOL\n",
    "from os import makedirs\n",
    "from os.path import exists\n",
    "from urllib.request import urlopen\n",
    "from bz2 import open as bz2open\n",
    "from shutil import copy as copy_file\n",
    "import gzip\n",
    "\n",
    "try:\n",
    "    from rdflib import Graph\n",
    "except:\n",
    "    !pip install rdflib"
   ]
  },
  {
   "cell_type": "code",
   "execution_count": 3,
   "id": "44c8e773-b5da-4ef6-a0cb-a30ddf3388cf",
   "metadata": {},
   "outputs": [],
   "source": [
    "draft_folder=f\"../draft/NELL-995+\"\n",
    "destination_folder=f\".\"\n",
    "\n",
    "# http://rtw.ml.cmu.edu/resources/results/08m/NELL.08m.995.esv.csv.gz\n",
    "# http://rtw.ml.cmu.edu/resources/results/08m/NELL.08m.995.ontology.csv.gz"
   ]
  },
  {
   "cell_type": "code",
   "execution_count": 4,
   "id": "fdbe199f-141b-4906-9bb5-4a48e2a0e6fd",
   "metadata": {},
   "outputs": [],
   "source": [
    "draft_folder=f\"{draft_folder}{'' if draft_folder.endswith('/') else '/'}\"\n",
    "destination_folder=f\"{destination_folder}{'' if destination_folder.endswith('/') else '/'}\"\n",
    "\n",
    "NELL995_LP_DATASET=\"https://raw.githubusercontent.com/otiliastr/coper/refs/heads/master/CoPER_ConvE/data/nell-995/\"\n",
    "NELL995_ARCHIVE_URL = \"http://rtw.ml.cmu.edu/resources/results/08m/\"\n",
    "\n",
    "NELL_LP=f\"{draft_folder}LP/\"\n",
    "NELL=f\"{draft_folder}NELL/\"\n",
    "\n",
    "dest_txt_folder=destination_folder\n",
    "dest_pkl_folder=f\"{destination_folder}pickle/\""
   ]
  },
  {
   "cell_type": "code",
   "execution_count": 5,
   "id": "9d370381-17b7-4d6f-9581-40cb0799898a",
   "metadata": {},
   "outputs": [],
   "source": [
    "for folder in [\n",
    "    draft_folder,\n",
    "    dest_txt_folder,\n",
    "    dest_pkl_folder,\n",
    "    NELL_LP,\n",
    "    NELL\n",
    "]: \n",
    "    makedirs(folder, exist_ok=True)"
   ]
  },
  {
   "cell_type": "code",
   "execution_count": 6,
   "id": "3fa6891f-a7a7-4cc4-b54a-ed02ffef390b",
   "metadata": {},
   "outputs": [
    {
     "name": "stderr",
     "output_type": "stream",
     "text": [
      "100%|████████████████████████████████████████████████████████████████████████████████████| 3/3 [00:01<00:00,  1.62it/s]\n"
     ]
    }
   ],
   "source": [
    "for file in tqdm([\n",
    "    \"train.txt\",\n",
    "    \"test.txt\",\n",
    "    \"dev.txt\"\n",
    "]):\n",
    "    file_uri=f\"{NELL995_LP_DATASET}{file}\"\n",
    "    file_path = f\"{NELL_LP}{file}\"\n",
    "    \n",
    "    if exists(file_path):\n",
    "        continue\n",
    "        \n",
    "    with urlopen(file_uri) as file_online:\n",
    "        with open(file_path, \"wb\") as file_local:\n",
    "            file_local.write(file_online.read())"
   ]
  },
  {
   "cell_type": "code",
   "execution_count": 7,
   "id": "746a7aec-7ba5-4e38-ac62-b56e002034f9",
   "metadata": {},
   "outputs": [
    {
     "name": "stderr",
     "output_type": "stream",
     "text": [
      "Unpacking NELL.08m.995.ontology.csv.gz: 100%|████████████████████████████████████████████| 2/2 [01:05<00:00, 32.61s/it]\n"
     ]
    }
   ],
   "source": [
    "with tqdm([\n",
    "    \"NELL.08m.995.esv.csv.gz\",\n",
    "    \"NELL.08m.995.ontology.csv.gz\"\n",
    "]) as bar:\n",
    "    for file in bar:\n",
    "        file_uri=f\"{NELL995_ARCHIVE_URL}{file}\"\n",
    "        file_path = f\"{NELL}{file}\"\n",
    "        file_unpacked_path=file_path[:-3]\n",
    "    \n",
    "        bar.set_description(f\"Downloading {file}\")\n",
    "        if not exists(file_path):\n",
    "            with open(file_path, \"wb\") as file_local:\n",
    "                with urlopen(file_uri) as file_online:\n",
    "                    file_local.write(file_online.read())\n",
    "    \n",
    "        bar.set_description(f\"Unpacking {file}\")\n",
    "        if not exists(file_unpacked_path):\n",
    "            with open(file_unpacked_path, \"wb\") as file_unpacked:\n",
    "                with gzip.open(file_path, 'rb') as file_local:\n",
    "                    file_unpacked.write(file_local.read())"
   ]
  },
  {
   "cell_type": "markdown",
   "id": "ee6cfb5e-127a-4ab7-8259-dccec380710a",
   "metadata": {},
   "source": [
    "# ent2id, rel2id, class2id"
   ]
  },
  {
   "cell_type": "code",
   "execution_count": 9,
   "id": "a0051572-7f7c-4e68-a6d3-6756d89f766a",
   "metadata": {},
   "outputs": [
    {
     "name": "stderr",
     "output_type": "stream",
     "text": [
      "Extracting entities and relations from train.txt: 100%|████████████████████| 149678/149678 [00:00<00:00, 211918.23it/s]\n",
      "Extracting entities and relations from test.txt: 100%|█████████████████████████| 3992/3992 [00:00<00:00, 255316.58it/s]\n",
      "Extracting entities and relations from dev.txt: 100%|████████████████████████████████████████| 543/543 [00:00<?, ?it/s]\n"
     ]
    }
   ],
   "source": [
    "rels = set([])\n",
    "ents = set([])\n",
    "\n",
    "for file in [\n",
    "    \"train.txt\",\n",
    "    \"test.txt\",\n",
    "    \"dev.txt\"\n",
    "]:\n",
    "    file_path=f\"{NELL_LP}{file}\"\n",
    "    nb_lines=sum(1 for _ in open(file_path, \"r\", encoding=\"utf-8\"))\n",
    "    with open(file_path, \"r\") as split:\n",
    "        with tqdm(enumerate(split), total=nb_lines) as bar:\n",
    "            bar.set_description(f\"Extracting entities and relations from {file}\")\n",
    "            for i, line in bar:\n",
    "                s, p, o = line.strip().split(\"\\t\")\n",
    "    \n",
    "                splitted_s = s.split(\"_\")\n",
    "                splitted_o = o.split(\"_\")\n",
    "    \n",
    "                if len(splitted_s) > 1:\n",
    "                    s = f\"{splitted_s[0]}:{splitted_s[1]}:{'_'.join(splitted_s[2:])}\"\n",
    "    \n",
    "                if len(splitted_o) > 1:\n",
    "                    o = f\"{splitted_o[0]}:{splitted_o[1]}:{'_'.join(splitted_o[2:])}\"\n",
    "    \n",
    "                ents.add(s)\n",
    "                ents.add(o)\n",
    "                rels.add(p)"
   ]
  },
  {
   "cell_type": "code",
   "execution_count": 10,
   "id": "b10ccdc7-c4de-455f-9874-db617813e3e7",
   "metadata": {},
   "outputs": [
    {
     "data": {
      "text/plain": [
       "(75492, 200)"
      ]
     },
     "execution_count": 10,
     "metadata": {},
     "output_type": "execute_result"
    }
   ],
   "source": [
    "len(list(ents)), len(list(rels))"
   ]
  },
  {
   "cell_type": "code",
   "execution_count": 11,
   "id": "3947fdd7-a9e5-49b3-9677-660d73003da9",
   "metadata": {},
   "outputs": [],
   "source": [
    "rel2id = {rel: i for i, rel in enumerate(list(rels))}\n",
    "id2rel = {i: rel for rel, i in rel2id.items()}\n",
    "\n",
    "with open(f\"{dest_pkl_folder}rel2id.pkl\", \"wb\") as handle:\n",
    "    dump(rel2id, handle)\n",
    "\n",
    "ent2id = {ent: i for i, ent in enumerate(list(ents))}\n",
    "id2ent = {i: ent for ent, i in ent2id.items()}\n",
    "\n",
    "with open(f\"{dest_pkl_folder}ent2id.pkl\", \"wb\") as handle:\n",
    "    dump(ent2id, handle)"
   ]
  },
  {
   "cell_type": "code",
   "execution_count": 12,
   "id": "7ba77164-e1af-4798-af49-97390759d12f",
   "metadata": {},
   "outputs": [
    {
     "data": {
      "text/plain": [
       "{'concept:musicgenre:west_coast': 0,\n",
       " 'concept:personeurope:st___columba': 1,\n",
       " 'concept:hospital:kantonsspital': 2,\n",
       " 'concept:coach:randy_jones': 3,\n",
       " 'concept:fish:large_fish': 4,\n",
       " 'concept:female:jennifer_connelly': 5,\n",
       " 'concept:musicartist:matchbox_20': 6,\n",
       " 'concept:bakedgood:shortbread_cookies': 7,\n",
       " 'concept:book:the_empress_file': 8,\n",
       " '40.6998250000000,-74.0140300000000': 9}"
      ]
     },
     "execution_count": 12,
     "metadata": {},
     "output_type": "execute_result"
    }
   ],
   "source": [
    "{k: v for k, v in list(ent2id.items())[:10]}"
   ]
  },
  {
   "cell_type": "code",
   "execution_count": 13,
   "id": "41a871b3-c405-4878-9ef1-6340e379804f",
   "metadata": {},
   "outputs": [
    {
     "data": {
      "text/plain": [
       "{'concept:drugworkedonbyagent': 0,\n",
       " 'concept:plantrepresentemotion': 1,\n",
       " 'concept:agriculturalproductincludingagriculturalproduct': 2,\n",
       " 'concept:itemfoundinroom': 3,\n",
       " 'concept:competeswith': 4,\n",
       " 'concept:agriculturalproductcomingfromvertebrate': 5,\n",
       " 'concept:teamplayssport': 6,\n",
       " 'concept:automakerproducesmodel': 7,\n",
       " 'concept:agentcollaborateswithagent': 8,\n",
       " 'concept:arthropodandotherarthropod': 9}"
      ]
     },
     "execution_count": 13,
     "metadata": {},
     "output_type": "execute_result"
    }
   ],
   "source": [
    "{k: v for k, v in list(rel2id.items())[:10]}"
   ]
  },
  {
   "cell_type": "markdown",
   "id": "a02b0073-2cc2-4db6-bc7e-50e92cc2aad5",
   "metadata": {},
   "source": [
    "### Encode train, test, valid splits"
   ]
  },
  {
   "cell_type": "code",
   "execution_count": 15,
   "id": "28eee954-d86c-43ef-9992-f96baef2a7c0",
   "metadata": {},
   "outputs": [
    {
     "name": "stderr",
     "output_type": "stream",
     "text": [
      "Encoding train2id.txt: 100%|███████████████████████████████████████████████| 149678/149678 [00:01<00:00, 117703.65it/s]\n",
      "Encoding train2id_inv.txt: 100%|███████████████████████████████████████████| 149678/149678 [00:00<00:00, 250694.44it/s]\n",
      "Encoding test2id.txt: 100%|█████████████████████████████████████████████████████| 3992/3992 [00:00<00:00, 84249.92it/s]\n",
      "Encoding test2id_inv.txt: 100%|████████████████████████████████████████████████| 3992/3992 [00:00<00:00, 255425.64it/s]\n",
      "Encoding valid2id.txt: 100%|██████████████████████████████████████████████████████| 543/543 [00:00<00:00, 34784.38it/s]\n",
      "Encoding valid2id_inv.txt: 100%|█████████████████████████████████████████████████████████████| 543/543 [00:00<?, ?it/s]\n"
     ]
    }
   ],
   "source": [
    "inverse_predicate_offset = max(rel2id.values()) + 1\n",
    "for split in [(\"train\", \"train\"), (\"test\", \"test\"), (\"valid\", \"dev\")]:\n",
    "    dest_split, nell_split = split\n",
    "    nb_lines=sum(1 for _ in open(f\"{NELL_LP}{nell_split}.txt\", \"r\", encoding=\"utf-8\"))\n",
    "    with open(f\"{NELL_LP}{nell_split}.txt\", \"r\", encoding='utf-8') as r:\n",
    "        with open(f\"{dest_txt_folder}{dest_split}2id.txt\", \"w+\", encoding='utf-8') as w:\n",
    "            with tqdm(enumerate(r), total=nb_lines) as bar:\n",
    "                bar.set_description(f\"Encoding {dest_split}2id.txt\")\n",
    "                for i, line in bar:\n",
    "                    s, p, o = line.strip().split(\"\\t\")\n",
    "\n",
    "                    splitted_s = s.split(\"_\")\n",
    "                    splitted_o = o.split(\"_\")\n",
    "                    \n",
    "                    if len(splitted_s) > 1:\n",
    "                        s = f\"{splitted_s[0]}:{splitted_s[1]}:{'_'.join(splitted_s[2:])}\"\n",
    "        \n",
    "                    if len(splitted_o) > 1:\n",
    "                        o = f\"{splitted_o[0]}:{splitted_o[1]}:{'_'.join(splitted_o[2:])}\"\n",
    "                    \n",
    "                    encoded_s = ent2id[s]\n",
    "                    encoded_p = rel2id[p]\n",
    "                    encoded_o = ent2id[o]\n",
    "                    \n",
    "                    w.write(f\"{encoded_s}\\t{encoded_p}\\t{encoded_o}\\n\")   \n",
    "                    \n",
    "        copy_file(f\"{dest_txt_folder}{dest_split}2id.txt\", f\"{dest_txt_folder}{dest_split}2id_inv.txt\")\n",
    "        with open(f\"{dest_txt_folder}{dest_split}2id.txt\", \"r\", encoding='utf-8') as r:\n",
    "            with open(f\"{dest_txt_folder}{dest_split}2id_inv.txt\", \"a\", encoding='utf-8') as a:\n",
    "                with tqdm(enumerate(r), total=nb_lines) as bar:\n",
    "                    bar.set_description(f\"Encoding {dest_split}2id_inv.txt\")\n",
    "                    for i, line in bar:\n",
    "                        s, p, o = line.strip().split(\"\\t\")\n",
    "                        p = int(p)\n",
    "                        a.write(f\"{o}\\t{p+inverse_predicate_offset}\\t{s}\\n\")"
   ]
  },
  {
   "cell_type": "markdown",
   "id": "be610e1a-6af4-4537-af77-76c2d41a2747",
   "metadata": {},
   "source": [
    "# observed_heads_original_kg, observed_tails_original_kg, observed_heads_inv, observed_tails_inv"
   ]
  },
  {
   "cell_type": "code",
   "execution_count": 17,
   "id": "6729c51b-f065-428f-b4b6-44bd95aa58db",
   "metadata": {},
   "outputs": [
    {
     "name": "stderr",
     "output_type": "stream",
     "text": [
      "Indexing triples from train2id.txt: 100%|███████████████████████████████████| 149678/149678 [00:02<00:00, 59182.39it/s]\n",
      "Indexing triples from test2id.txt: 100%|████████████████████████████████████████| 3992/3992 [00:00<00:00, 63825.25it/s]\n",
      "Indexing triples from valid2id.txt: 100%|█████████████████████████████████████████| 543/543 [00:00<00:00, 34753.06it/s]\n"
     ]
    }
   ],
   "source": [
    "observed_heads_original_kg={}\n",
    "observed_heads_inv={}\n",
    "observed_tails_original_kg={}\n",
    "observed_tails_inv={}\n",
    "\n",
    "def observe(d, a, b, c):\n",
    "    if not a in d.keys():\n",
    "        d[a]={}\n",
    "\n",
    "    if not b in d[a].keys():\n",
    "        d[a][b]=[c]\n",
    "    else:\n",
    "        d[a][b].append(c)\n",
    "\n",
    "\n",
    "for split in [\"train\", \"test\", \"valid\"]:\n",
    "    nb_lines=sum(1 for _ in open(f\"{dest_txt_folder}{split}2id.txt\", \"r\", encoding=\"utf-8\"))\n",
    "    with open(f\"{dest_txt_folder}{split}2id.txt\", \"r\", encoding='utf-8') as r:\n",
    "        with tqdm(enumerate(r), total=nb_lines) as bar:\n",
    "            bar.set_description(f\"Indexing triples from {split}2id.txt\")\n",
    "            for i, line in bar:\n",
    "                s, p, o = line.strip().split(\"\\t\")\n",
    "                s, p, o = int(s), int(p), int(o)\n",
    "\n",
    "                observe(observed_tails_original_kg, s, p, o)\n",
    "                observe(observed_tails_inv, s, p, o)\n",
    "                observe(observed_tails_inv, o, p + inverse_predicate_offset, s)\n",
    "\n",
    "                observe(observed_heads_original_kg, o, p, s)\n",
    "                observe(observed_heads_inv, o, p, s)\n",
    "                observe(observed_heads_inv, s, p + inverse_predicate_offset, o)"
   ]
  },
  {
   "cell_type": "code",
   "execution_count": 18,
   "id": "4bcb3e9f-2eac-45a6-a5b9-4c85200075a6",
   "metadata": {},
   "outputs": [],
   "source": [
    "with open(f\"{dest_pkl_folder}observed_heads_original_kg.pkl\", \"wb\") as handle:\n",
    "    dump(observed_heads_original_kg, handle)\n",
    "\n",
    "with open(f\"{dest_pkl_folder}observed_heads_inv.pkl\", \"wb\") as handle:\n",
    "    dump(observed_heads_inv, handle)\n",
    "\n",
    "with open(f\"{dest_pkl_folder}observed_tails_original_kg.pkl\", \"wb\") as handle:\n",
    "    dump(observed_tails_original_kg, handle)\n",
    "\n",
    "with open(f\"{dest_pkl_folder}observed_tails_inv.pkl\", \"wb\") as handle:\n",
    "    dump(observed_tails_inv, handle)"
   ]
  },
  {
   "cell_type": "markdown",
   "id": "6bd2bd96-ba8c-4c40-88a7-ce6246e8e667",
   "metadata": {},
   "source": [
    "## Class2id"
   ]
  },
  {
   "cell_type": "code",
   "execution_count": 20,
   "id": "b7894bdb-0ce7-45c0-8c8b-1450abdd7055",
   "metadata": {},
   "outputs": [
    {
     "name": "stderr",
     "output_type": "stream",
     "text": [
      "100%|█████████████████████████████████████████████████████████████████████| 2664732/2664732 [00:29<00:00, 90260.24it/s]\n"
     ]
    }
   ],
   "source": [
    "data_subject_class={}\n",
    "data_object_class={}\n",
    "\n",
    "nb_lines=sum(1 for _ in open(f\"{draft_folder}NELL/NELL.08m.995.esv.csv\", \"r\", encoding=\"utf-8\"))\n",
    "with open(f\"{draft_folder}NELL/NELL.08m.995.esv.csv\", \"r\", encoding='utf-8') as r:\n",
    "    with tqdm(enumerate(r), total=nb_lines) as bar:\n",
    "        for i, line in bar:\n",
    "            if i==0:\n",
    "                continue\n",
    "            elmts=line.strip().split(\"\\t\")\n",
    "\n",
    "            s=elmts[0]\n",
    "            o=elmts[2]\n",
    "\n",
    "            subject_types=[\n",
    "                x.strip()\n",
    "                for x in elmts[-3].split(\" \")\n",
    "                if len(x.strip()) > 0\n",
    "                and not x.strip() == \"concept:everypromotedthing\"\n",
    "            ]\n",
    "            object_types=[\n",
    "                x.strip()\n",
    "                for x in elmts[-2].split(\" \")\n",
    "                if len(x.strip()) > 0\n",
    "                and not x.strip() == \"concept:everypromotedthing\"\n",
    "            ]\n",
    "\n",
    "            if s in ent2id.keys() and len(subject_types) > 0:\n",
    "                if not s in data_subject_class:\n",
    "                    data_subject_class[s]=set([])\n",
    "                for x in subject_types:\n",
    "                    data_subject_class[s].add(x)\n",
    "\n",
    "            if o in ent2id.keys() and len(object_types)> 0:\n",
    "                if not o in data_object_class:\n",
    "                    data_object_class[o]=set([])\n",
    "                for x in object_types:\n",
    "                    data_object_class[o].add(x)"
   ]
  },
  {
   "cell_type": "code",
   "execution_count": 21,
   "id": "cfaa1d5e-89cd-4b89-b9ee-160f5cd0c781",
   "metadata": {},
   "outputs": [],
   "source": [
    "inst_classes =set([\n",
    "    sc\n",
    "    for v in data_subject_class.values()\n",
    "    for sc in v\n",
    "]).union(set([\n",
    "    sc\n",
    "    for v in data_object_class.values()\n",
    "    for sc in v\n",
    "]))"
   ]
  },
  {
   "cell_type": "code",
   "execution_count": 22,
   "id": "1a1889cd-f81a-45fb-95c4-913f02457c85",
   "metadata": {},
   "outputs": [
    {
     "data": {
      "text/plain": [
       "257"
      ]
     },
     "execution_count": 22,
     "metadata": {},
     "output_type": "execute_result"
    }
   ],
   "source": [
    "len(inst_classes)"
   ]
  },
  {
   "cell_type": "code",
   "execution_count": 23,
   "id": "c6f360c0-2e23-4930-9614-3365cd6c52cb",
   "metadata": {},
   "outputs": [
    {
     "data": {
      "text/plain": [
       "{'concept:geolocatablething:plaza_de_mayo': {'concept:geolocatablething'},\n",
       " 'concept:geolocatablething:buildings': {'concept:geolocatablething'},\n",
       " 'concept:televisionstation:kvhp': {'concept:televisionstation'},\n",
       " 'concept:televisionstation:wyin': {'concept:televisionstation'},\n",
       " 'concept:televisionstation:ktbs_tv': {'concept:televisionstation'},\n",
       " 'concept:televisionstation:wyle': {'concept:televisionstation'},\n",
       " 'concept:televisionstation:kvii': {'concept:televisionstation'},\n",
       " 'concept:televisionstation:kvie': {'concept:televisionstation'},\n",
       " 'concept:televisionstation:kviq': {'concept:televisionstation'},\n",
       " 'concept:televisionstation:kvia': {'concept:televisionstation'}}"
      ]
     },
     "execution_count": 23,
     "metadata": {},
     "output_type": "execute_result"
    }
   ],
   "source": [
    "{k: v for k, v in list(data_subject_class.items())[:10]}"
   ]
  },
  {
   "cell_type": "code",
   "execution_count": 24,
   "id": "a3980205-265e-4de6-b0a8-ba988420ff98",
   "metadata": {},
   "outputs": [
    {
     "data": {
      "text/plain": [
       "{'concept:city:washington_d_c': {'concept:city'},\n",
       " 'concept:university:unc_asheville': {'concept:university'},\n",
       " 'concept:date:n2004': {'concept:date'},\n",
       " 'concept:city:vegas': {'concept:city'},\n",
       " 'concept:disease:problems': {'concept:disease'},\n",
       " 'concept:disease:disorder': {'concept:disease'},\n",
       " 'concept:disease:syndrome': {'concept:disease'},\n",
       " 'concept:disease:allergies': {'concept:disease'},\n",
       " 'concept:academicfield:health': {'concept:academicfield'},\n",
       " 'concept:website:new_york_times': {'concept:newspaper', 'concept:website'}}"
      ]
     },
     "execution_count": 24,
     "metadata": {},
     "output_type": "execute_result"
    }
   ],
   "source": [
    "{k: v for k, v in list(data_object_class.items())[:10]}"
   ]
  },
  {
   "cell_type": "code",
   "execution_count": 25,
   "id": "5f7e776a-7d91-41ec-9e07-3acfabf34565",
   "metadata": {},
   "outputs": [
    {
     "data": {
      "text/plain": [
       "['concept:weatherphenomenon',\n",
       " 'concept:perceptionevent',\n",
       " 'concept:archaea',\n",
       " 'concept:visualizableattribute',\n",
       " 'concept:fruit',\n",
       " 'concept:militaryeventtype',\n",
       " 'concept:mlauthor',\n",
       " 'concept:city',\n",
       " 'concept:restaurant',\n",
       " 'concept:architect']"
      ]
     },
     "execution_count": 25,
     "metadata": {},
     "output_type": "execute_result"
    }
   ],
   "source": [
    "list(inst_classes)[:10]"
   ]
  },
  {
   "cell_type": "markdown",
   "id": "9bfc4975-f538-4d7d-9dbd-a76eeb0b1360",
   "metadata": {},
   "source": [
    "## Domain / Range extraction"
   ]
  },
  {
   "cell_type": "code",
   "execution_count": 27,
   "id": "dfe87faf-96db-491a-9dd1-a8fbf39afe23",
   "metadata": {},
   "outputs": [
    {
     "name": "stderr",
     "output_type": "stream",
     "text": [
      "100%|██████████████████████████████████████████████████████████████████████| 738239/738239 [00:01<00:00, 595115.57it/s]\n"
     ]
    }
   ],
   "source": [
    "domains={}\n",
    "ranges={}\n",
    "rangewithindomain={}\n",
    "domainwithinrange={}\n",
    "\n",
    "nb_lines=sum(1 for _ in open(f\"{draft_folder}NELL/NELL.08m.995.ontology.csv\", \"r\", encoding=\"utf-8\"))\n",
    "with open(f\"{draft_folder}NELL/NELL.08m.995.ontology.csv\", \"r\", encoding='utf-8') as r:\n",
    "    with tqdm(enumerate(r), total=nb_lines) as bar:\n",
    "        for i, line in bar:\n",
    "            if i==0:\n",
    "                continue\n",
    "\n",
    "            s, p, o = line.strip().split(\"\\t\")\n",
    "\n",
    "            if o == 'concept:everypromotedthing':\n",
    "                continue\n",
    "\n",
    "            if not s in rel2id.keys():\n",
    "                continue\n",
    "\n",
    "            if p == \"domain\":\n",
    "                if not rel2id[s] in domains:\n",
    "                    domains[s]=set([])\n",
    "                domains[s].add(o)\n",
    "\n",
    "            if p == \"range\":\n",
    "                if not rel2id[s] in ranges:\n",
    "                    ranges[s]=set([])\n",
    "                ranges[s].add(o)\n",
    "\n",
    "            if p == \"domainwithinrange\":\n",
    "                domainwithinrange[rel2id[s]]=o == \"true\"\n",
    "\n",
    "            if p == \"rangewithindomain\":\n",
    "                rangewithindomain[rel2id[s]]=o == \"true\""
   ]
  },
  {
   "cell_type": "code",
   "execution_count": 28,
   "id": "9e4fc3c6-e1fc-4782-9b05-b6a6c5638571",
   "metadata": {},
   "outputs": [
    {
     "data": {
      "text/plain": [
       "({1}, {1})"
      ]
     },
     "execution_count": 28,
     "metadata": {},
     "output_type": "execute_result"
    }
   ],
   "source": [
    "set([len(v) for v in domains.values()]), set([len(v) for v in ranges.values()])"
   ]
  },
  {
   "cell_type": "code",
   "execution_count": 29,
   "id": "d21232eb-14c7-465c-b0c9-0df07ee0a611",
   "metadata": {},
   "outputs": [],
   "source": [
    "domains={k: list(v)[0] for k, v in domains.items()}\n",
    "ranges={k: list(v)[0] for k, v in ranges.items()}"
   ]
  },
  {
   "cell_type": "code",
   "execution_count": 30,
   "id": "baa2d7c5-c0fd-448a-abe1-21bbecdfda08",
   "metadata": {},
   "outputs": [
    {
     "data": {
      "text/plain": [
       "{'concept:sportfansincountry': 'concept:sport',\n",
       " 'concept:thinghascolor': 'concept:visualizablething',\n",
       " 'concept:athleteplayssport': 'concept:athlete',\n",
       " 'concept:visualartistartform': 'concept:visualartist',\n",
       " 'concept:persondiedatage': 'concept:person'}"
      ]
     },
     "execution_count": 30,
     "metadata": {},
     "output_type": "execute_result"
    }
   ],
   "source": [
    "{k: v for k, v in list(domains.items())[:5]}"
   ]
  },
  {
   "cell_type": "code",
   "execution_count": 31,
   "id": "fc24f70e-32ae-4faa-9f8f-f0497cf16d81",
   "metadata": {},
   "outputs": [
    {
     "data": {
      "text/plain": [
       "{'concept:sportfansincountry': 'concept:country',\n",
       " 'concept:thinghascolor': 'concept:color',\n",
       " 'concept:athleteplayssport': 'concept:sport',\n",
       " 'concept:visualartistartform': 'concept:visualartform',\n",
       " 'concept:persondiedatage': 'concept:nonneginteger'}"
      ]
     },
     "execution_count": 31,
     "metadata": {},
     "output_type": "execute_result"
    }
   ],
   "source": [
    "{k: v for k, v in list(ranges.items())[:5]}"
   ]
  },
  {
   "cell_type": "code",
   "execution_count": 32,
   "id": "fb95d110-d9d8-4d37-b12f-017038b3ff47",
   "metadata": {},
   "outputs": [],
   "source": [
    "inst_classes = inst_classes.union(set(domains.values()).union(set(ranges.values())))"
   ]
  },
  {
   "cell_type": "code",
   "execution_count": 33,
   "id": "7393dba2-b7ab-439d-a21c-c48bbc934501",
   "metadata": {},
   "outputs": [],
   "source": [
    "onto_subject_class={}\n",
    "onto_object_class={}\n",
    "\n",
    "for subject_id in observed_tails_original_kg.keys():\n",
    "    for predicate_id in observed_tails_original_kg[subject_id].keys():\n",
    "        if id2rel[predicate_id] in domains:\n",
    "            if not subject_id in onto_subject_class:\n",
    "                onto_subject_class[id2ent[subject_id]]=set([])\n",
    "            onto_subject_class[id2ent[subject_id]].add(domains[id2rel[predicate_id]])\n",
    "\n",
    "for object_id in observed_heads_original_kg.keys():\n",
    "    for predicate_id in observed_heads_original_kg[object_id].keys():\n",
    "        if id2rel[predicate_id] in ranges:\n",
    "            if not object_id in onto_object_class:\n",
    "                onto_object_class[id2ent[object_id]]=set([])\n",
    "            onto_object_class[id2ent[object_id]].add(ranges[id2rel[predicate_id]])"
   ]
  },
  {
   "cell_type": "code",
   "execution_count": 34,
   "id": "41e9d288-50b3-4c1c-ba57-e70e6f1a91d9",
   "metadata": {},
   "outputs": [
    {
     "data": {
      "text/plain": [
       "{'concept:sportsteam:dalhousie_university': {'concept:sportsteam'},\n",
       " 'concept:governmentorganization:federal': {'concept:organization'},\n",
       " 'concept:coach:richard_zednik': {'concept:athlete'},\n",
       " 'concept:county:duke_university': {'concept:organization'},\n",
       " 'concept:company:remark': {'concept:organization'},\n",
       " 'concept:sportsteam:bond_university': {'concept:sportsteam'},\n",
       " 'concept:coach:lubomir_visnovsky': {'concept:athlete'},\n",
       " 'concept:sportsteam:cal_poly_slo_mustangs': {'concept:sportsteam'},\n",
       " 'concept:athlete:mike_wallace': {'concept:person'},\n",
       " 'concept:person:brent_staples': {'concept:person'}}"
      ]
     },
     "execution_count": 34,
     "metadata": {},
     "output_type": "execute_result"
    }
   ],
   "source": [
    "{k: v for k, v in list(onto_subject_class.items())[-10:]}"
   ]
  },
  {
   "cell_type": "code",
   "execution_count": 35,
   "id": "5835f6bd-3c14-4143-8a05-b2d67d3df50c",
   "metadata": {},
   "outputs": [
    {
     "data": {
      "text/plain": [
       "{'concept:coach:travis_ford': {'concept:person'},\n",
       " 'concept:sportsteam:carnegie_mellon_university': {'concept:organization'},\n",
       " 'concept:person:lower': {'concept:person'},\n",
       " 'concept:coach:pat_fitzgerald': {'concept:person'},\n",
       " 'concept:university:southern_cal': {'concept:organization'},\n",
       " 'concept:university:uw': {'concept:organization'},\n",
       " 'concept:athlete:ovechkin': {'concept:person'},\n",
       " 'concept:politicianus:richard_m__daley': {'concept:person'},\n",
       " 'concept:coach:john_fox': {'concept:person'},\n",
       " 'concept:person:skip_bertman': {'concept:person'}}"
      ]
     },
     "execution_count": 35,
     "metadata": {},
     "output_type": "execute_result"
    }
   ],
   "source": [
    "{k: v for k, v in list(onto_object_class.items())[-10:]}"
   ]
  },
  {
   "cell_type": "markdown",
   "id": "5f20f683-6053-48b8-b5bf-c36345fb243b",
   "metadata": {},
   "source": [
    "## subclassofId"
   ]
  },
  {
   "cell_type": "code",
   "execution_count": 37,
   "id": "de5f91a5-d0b0-4395-8c19-2acc22168704",
   "metadata": {},
   "outputs": [
    {
     "name": "stderr",
     "output_type": "stream",
     "text": [
      "100%|██████████████████████████████████████████████████████████████████████| 738239/738239 [00:00<00:00, 854582.10it/s]\n"
     ]
    }
   ],
   "source": [
    "subclassof_onto={}\n",
    "\n",
    "nb_lines=sum(1 for _ in open(f\"{draft_folder}NELL/NELL.08m.995.ontology.csv\", \"r\", encoding=\"utf-8\"))\n",
    "with open(f\"{draft_folder}NELL/NELL.08m.995.ontology.csv\", \"r\", encoding='utf-8') as r:\n",
    "    with tqdm(enumerate(r), total=nb_lines) as bar:\n",
    "        for i, line in bar:\n",
    "            if i==0:\n",
    "                continue\n",
    "\n",
    "            s, p, o = line.strip().split(\"\\t\")\n",
    "\n",
    "            if not p == \"generalizations\":\n",
    "                continue\n",
    "\n",
    "            if o == 'concept:everypromotedthing':\n",
    "                continue\n",
    "\n",
    "            if not s in subclassof_onto.keys():\n",
    "                subclassof_onto[s]=set([])\n",
    "\n",
    "            subclassof_onto[s].add(o)"
   ]
  },
  {
   "cell_type": "code",
   "execution_count": 38,
   "id": "50a09bdd-9d9e-4792-b597-98c2cad39ef7",
   "metadata": {},
   "outputs": [],
   "source": [
    "subclassof={k: v for k, v in subclassof_onto.items() if k in inst_classes}"
   ]
  },
  {
   "cell_type": "code",
   "execution_count": 39,
   "id": "1ab68aaa-abd7-4183-88ab-5b09ff18d11b",
   "metadata": {},
   "outputs": [
    {
     "data": {
      "text/plain": [
       "(2356, 256)"
      ]
     },
     "execution_count": 39,
     "metadata": {},
     "output_type": "execute_result"
    }
   ],
   "source": [
    "len(subclassof_onto), len(subclassof)"
   ]
  },
  {
   "cell_type": "code",
   "execution_count": 40,
   "id": "5956a7cf-af73-4bc1-bdf4-9124c4ea5d7a",
   "metadata": {},
   "outputs": [
    {
     "data": {
      "text/plain": [
       "{'concept:televisionstation': {'concept:geolocatablething',\n",
       "  'concept:mediacompany'},\n",
       " 'concept:river': {'concept:geolocatablething', 'concept:location'},\n",
       " 'concept:park': {'concept:attraction', 'concept:geolocatablething'},\n",
       " 'concept:university': {'concept:geolocatablething', 'concept:school'},\n",
       " 'concept:stateorprovince': {'concept:geolocatablething',\n",
       "  'concept:geopoliticallocation',\n",
       "  'concept:geopoliticalorganization'},\n",
       " 'concept:building': {'concept:geolocatablething', 'concept:location'},\n",
       " 'concept:skyscraper': {'concept:building'},\n",
       " 'concept:retailstore': {'concept:building'},\n",
       " 'concept:museum': {'concept:attraction', 'concept:building'},\n",
       " 'concept:trainstation': {'concept:building'}}"
      ]
     },
     "execution_count": 40,
     "metadata": {},
     "output_type": "execute_result"
    }
   ],
   "source": [
    "{k: v for k, v in list(subclassof.items())[:10]}"
   ]
  },
  {
   "cell_type": "code",
   "execution_count": 41,
   "id": "100f60e1-c8c9-413c-8315-4ab07f429505",
   "metadata": {},
   "outputs": [],
   "source": [
    "def ancestors(c):\n",
    "    if not c in subclassof_onto.keys():\n",
    "        return [c]\n",
    "    else:\n",
    "        result = [c]\n",
    "        for sc in subclassof_onto[c]:\n",
    "            result.extend(ancestors(sc))\n",
    "        return result"
   ]
  },
  {
   "cell_type": "code",
   "execution_count": 42,
   "id": "be4b71e9-e44b-4ee0-8ba1-19360be21b28",
   "metadata": {},
   "outputs": [
    {
     "data": {
      "text/plain": [
       "(['concept:location'],\n",
       " ['concept:university',\n",
       "  'concept:school',\n",
       "  'concept:organization',\n",
       "  'concept:humanagent',\n",
       "  'concept:agent',\n",
       "  'concept:geolocatablething'])"
      ]
     },
     "execution_count": 42,
     "metadata": {},
     "output_type": "execute_result"
    }
   ],
   "source": [
    "ancestors('concept:location'), ancestors('concept:university')"
   ]
  },
  {
   "cell_type": "code",
   "execution_count": 43,
   "id": "de424a1a-1e35-483c-93c9-bd8e0ca82eea",
   "metadata": {},
   "outputs": [
    {
     "name": "stderr",
     "output_type": "stream",
     "text": [
      "100%|████████████████████████████████████████████████████████████████████████████████████████| 256/256 [00:00<?, ?it/s]\n"
     ]
    }
   ],
   "source": [
    "subclassof_all={}\n",
    "\n",
    "for k, v in tqdm(subclassof.items()):\n",
    "    subclassof_all[k]=set([\n",
    "        sc\n",
    "        for c in v\n",
    "        for sc in ancestors(c)\n",
    "    ]).union(set([k]))"
   ]
  },
  {
   "cell_type": "code",
   "execution_count": 44,
   "id": "5a7a8029-263c-45fc-9092-80a72ef3a808",
   "metadata": {},
   "outputs": [
    {
     "data": {
      "text/plain": [
       "{'concept:televisionstation': {'concept:agent',\n",
       "  'concept:company',\n",
       "  'concept:geolocatablething',\n",
       "  'concept:humanagent',\n",
       "  'concept:mediacompany',\n",
       "  'concept:organization',\n",
       "  'concept:televisionstation'},\n",
       " 'concept:river': {'concept:geolocatablething',\n",
       "  'concept:location',\n",
       "  'concept:river'},\n",
       " 'concept:park': {'concept:attraction',\n",
       "  'concept:geolocatablething',\n",
       "  'concept:location',\n",
       "  'concept:park'},\n",
       " 'concept:university': {'concept:agent',\n",
       "  'concept:geolocatablething',\n",
       "  'concept:humanagent',\n",
       "  'concept:organization',\n",
       "  'concept:school',\n",
       "  'concept:university'}}"
      ]
     },
     "execution_count": 44,
     "metadata": {},
     "output_type": "execute_result"
    }
   ],
   "source": [
    "{k: v for k, v in list(subclassof_all.items())[:4]}"
   ]
  },
  {
   "cell_type": "code",
   "execution_count": 45,
   "id": "14d2d135-0f74-47e1-8e31-5fa86265124b",
   "metadata": {},
   "outputs": [],
   "source": [
    "classes=set(subclassof_all.keys()).union(set([\n",
    "    sc\n",
    "    for v in subclassof_all.values()\n",
    "    for sc in v\n",
    "])).union(inst_classes)"
   ]
  },
  {
   "cell_type": "code",
   "execution_count": 46,
   "id": "a61ec49b-1056-4756-af07-7a6b2e12f71e",
   "metadata": {},
   "outputs": [
    {
     "data": {
      "text/plain": [
       "267"
      ]
     },
     "execution_count": 46,
     "metadata": {},
     "output_type": "execute_result"
    }
   ],
   "source": [
    "len(classes)"
   ]
  },
  {
   "cell_type": "code",
   "execution_count": 47,
   "id": "89c541f0-c779-4372-9c40-3bd6469c64b2",
   "metadata": {},
   "outputs": [],
   "source": [
    "class2id={c: i for i, c in enumerate(list(classes))}\n",
    "id2class = {i: rel for rel, i in class2id.items()}\n",
    "\n",
    "with open(f\"{dest_pkl_folder}class2id.pkl\", \"wb\") as handle:\n",
    "    dump(class2id, handle)"
   ]
  },
  {
   "cell_type": "code",
   "execution_count": 48,
   "id": "a3afa089-f652-4dc2-8cc1-f84cfc3c2ee3",
   "metadata": {},
   "outputs": [],
   "source": [
    "subclassof2id={class2id[k]: [class2id[x] for x in v] for k, v in subclassof.items()}\n",
    "\n",
    "for id in id2class.keys():\n",
    "    if id in subclassof2id.keys():\n",
    "        continue\n",
    "    subclassof2id[id]=[]\n",
    "\n",
    "subclassof_all2id={class2id[k]: [class2id[x] for x in v] for k, v in subclassof_all.items()}\n",
    "\n",
    "for id in id2class.keys():\n",
    "    if id in subclassof_all2id.keys():\n",
    "        continue\n",
    "    subclassof_all2id[id]=[]"
   ]
  },
  {
   "cell_type": "code",
   "execution_count": 49,
   "id": "f45b4776-b3cb-4d18-a0d0-e87b4d183766",
   "metadata": {},
   "outputs": [],
   "source": [
    "inst_type={\n",
    "    ent2id[ent]: [\n",
    "        class2id[x]\n",
    "        for x in list(\n",
    "            data_subject_class.get(ent, set([])).union(\n",
    "                data_object_class.get(ent, set([]))\n",
    "            ).union(\n",
    "                onto_subject_class.get(ent, set([]))\n",
    "            ).union(\n",
    "                onto_object_class.get(ent, set([]))\n",
    "            )\n",
    "        )\n",
    "    ]\n",
    "    for ent in ent2id.keys()\n",
    "}"
   ]
  },
  {
   "cell_type": "code",
   "execution_count": 50,
   "id": "86d8d9c7-c1cb-45d3-8a54-12594862a41a",
   "metadata": {},
   "outputs": [
    {
     "data": {
      "text/plain": [
       "(75492, 75492)"
      ]
     },
     "execution_count": 50,
     "metadata": {},
     "output_type": "execute_result"
    }
   ],
   "source": [
    "len(inst_type.keys()), len(ent2id.keys())"
   ]
  },
  {
   "cell_type": "code",
   "execution_count": 51,
   "id": "70b9be6a-885e-4b94-b80a-372037f6852d",
   "metadata": {},
   "outputs": [
    {
     "data": {
      "text/plain": [
       "{0: [46],\n",
       " 1: [],\n",
       " 2: [],\n",
       " 3: [173, 45, 189, 87],\n",
       " 4: [99, 57],\n",
       " 5: [222, 19],\n",
       " 6: [59],\n",
       " 7: [105],\n",
       " 8: [234],\n",
       " 9: [145]}"
      ]
     },
     "execution_count": 51,
     "metadata": {},
     "output_type": "execute_result"
    }
   ],
   "source": [
    "{k: v for k, v in list(inst_type.items())[:10]}"
   ]
  },
  {
   "cell_type": "code",
   "execution_count": 52,
   "id": "a901ee35-5b2c-4d59-8cd3-5fc067e54267",
   "metadata": {},
   "outputs": [
    {
     "data": {
      "text/plain": [
       "{'concept:musicgenre:west_coast': ['concept:musicgenre'],\n",
       " 'concept:personeurope:st___columba': [],\n",
       " 'concept:hospital:kantonsspital': [],\n",
       " 'concept:coach:randy_jones': ['concept:coach',\n",
       "  'concept:athlete',\n",
       "  'concept:personaustralia',\n",
       "  'concept:male'],\n",
       " 'concept:fish:large_fish': ['concept:animal', 'concept:fish'],\n",
       " 'concept:female:jennifer_connelly': ['concept:female', 'concept:celebrity'],\n",
       " 'concept:musicartist:matchbox_20': ['concept:musicartist'],\n",
       " 'concept:bakedgood:shortbread_cookies': ['concept:bakedgood'],\n",
       " 'concept:book:the_empress_file': ['concept:book'],\n",
       " '40.6998250000000,-74.0140300000000': ['concept:llcoordinate']}"
      ]
     },
     "execution_count": 52,
     "metadata": {},
     "output_type": "execute_result"
    }
   ],
   "source": [
    "{id2ent[k]: [id2class[x] for x in v] for k, v in list(inst_type.items())[:10]}"
   ]
  },
  {
   "cell_type": "code",
   "execution_count": 53,
   "id": "c01f78c9-f254-45ec-867f-7033571f3519",
   "metadata": {},
   "outputs": [],
   "source": [
    "inst_type_all={\n",
    "    ident: list(set([sc for c in inst_type[ident] for sc in subclassof_all2id[c]]))\n",
    "    for ident, v in inst_type.items()\n",
    "}"
   ]
  },
  {
   "cell_type": "code",
   "execution_count": 54,
   "id": "6b89b887-4afe-4433-b144-2f6749c80b7c",
   "metadata": {},
   "outputs": [
    {
     "data": {
      "text/plain": [
       "(75492, 75492)"
      ]
     },
     "execution_count": 54,
     "metadata": {},
     "output_type": "execute_result"
    }
   ],
   "source": [
    "len(inst_type_all.keys()), len(inst_type_all.keys())"
   ]
  },
  {
   "cell_type": "code",
   "execution_count": 55,
   "id": "2541cff3-45a3-426f-afd1-c185d879cc89",
   "metadata": {},
   "outputs": [
    {
     "data": {
      "text/plain": [
       "{0: [46, 23],\n",
       " 1: [],\n",
       " 2: [],\n",
       " 3: [45, 173, 141, 144, 210, 87, 189, 223],\n",
       " 4: [99, 141, 143, 150, 23, 57],\n",
       " 5: [141, 210, 19, 222, 223],\n",
       " 6: [265, 59, 141, 223],\n",
       " 7: [105, 174, 20, 155, 125],\n",
       " 8: [65, 234, 23],\n",
       " 9: [145, 23]}"
      ]
     },
     "execution_count": 55,
     "metadata": {},
     "output_type": "execute_result"
    }
   ],
   "source": [
    "{k: v for k, v in list(inst_type_all.items())[:10]}"
   ]
  },
  {
   "cell_type": "code",
   "execution_count": 56,
   "id": "c81983e4-1812-4895-a0e7-4833fac8d261",
   "metadata": {},
   "outputs": [
    {
     "data": {
      "text/plain": [
       "{'concept:musicgenre:west_coast': ['concept:musicgenre',\n",
       "  'concept:abstractthing'],\n",
       " 'concept:personeurope:st___columba': [],\n",
       " 'concept:hospital:kantonsspital': [],\n",
       " 'concept:coach:randy_jones': ['concept:athlete',\n",
       "  'concept:coach',\n",
       "  'concept:agent',\n",
       "  'concept:personbylocation',\n",
       "  'concept:person',\n",
       "  'concept:male',\n",
       "  'concept:personaustralia',\n",
       "  'concept:humanagent'],\n",
       " 'concept:fish:large_fish': ['concept:animal',\n",
       "  'concept:agent',\n",
       "  'concept:vertebrate',\n",
       "  'concept:species',\n",
       "  'concept:abstractthing',\n",
       "  'concept:fish'],\n",
       " 'concept:female:jennifer_connelly': ['concept:agent',\n",
       "  'concept:person',\n",
       "  'concept:celebrity',\n",
       "  'concept:female',\n",
       "  'concept:humanagent'],\n",
       " 'concept:musicartist:matchbox_20': ['concept:organization',\n",
       "  'concept:musicartist',\n",
       "  'concept:agent',\n",
       "  'concept:humanagent'],\n",
       " 'concept:bakedgood:shortbread_cookies': ['concept:bakedgood',\n",
       "  'concept:food',\n",
       "  'concept:visualizableobject',\n",
       "  'concept:item',\n",
       "  'concept:visualizablething'],\n",
       " 'concept:book:the_empress_file': ['concept:creativework',\n",
       "  'concept:book',\n",
       "  'concept:abstractthing'],\n",
       " '40.6998250000000,-74.0140300000000': ['concept:llcoordinate',\n",
       "  'concept:abstractthing']}"
      ]
     },
     "execution_count": 56,
     "metadata": {},
     "output_type": "execute_result"
    }
   ],
   "source": [
    "{id2ent[k]: [id2class[x] for x in v] for k, v in list(inst_type_all.items())[:10]}"
   ]
  },
  {
   "cell_type": "code",
   "execution_count": 57,
   "id": "47a00ce9-12b8-4942-9ff1-5943661c9102",
   "metadata": {},
   "outputs": [],
   "source": [
    "class2id2ent2id={\n",
    "    idclass: [\n",
    "        ident\n",
    "        for ident in inst_type_all.keys()\n",
    "        if idclass in inst_type_all[ident]\n",
    "    ]\n",
    "    for idclass in id2class.keys()\n",
    "}"
   ]
  },
  {
   "cell_type": "code",
   "execution_count": 58,
   "id": "b75b3f57-5e9b-424b-9b87-42e603ff0785",
   "metadata": {},
   "outputs": [
    {
     "data": {
      "text/plain": [
       "(267, 267)"
      ]
     },
     "execution_count": 58,
     "metadata": {},
     "output_type": "execute_result"
    }
   ],
   "source": [
    "len(class2id2ent2id.keys()), len(class2id.keys())"
   ]
  },
  {
   "cell_type": "code",
   "execution_count": 59,
   "id": "bb01da8b-f0b3-4120-b289-5bea40478353",
   "metadata": {},
   "outputs": [
    {
     "data": {
      "text/plain": [
       "{0: [8442, 11797, 16509],\n",
       " 1: [31365, 32136, 34822],\n",
       " 2: [186, 460, 512],\n",
       " 3: [63, 405, 636],\n",
       " 4: [130, 234, 870]}"
      ]
     },
     "execution_count": 59,
     "metadata": {},
     "output_type": "execute_result"
    }
   ],
   "source": [
    "{k: v[:3] for k, v in list(class2id2ent2id.items())[:5]}"
   ]
  },
  {
   "cell_type": "code",
   "execution_count": 60,
   "id": "1549140c-a30d-47c9-a052-3a2a897a80da",
   "metadata": {},
   "outputs": [
    {
     "data": {
      "text/plain": [
       "{'concept:weatherphenomenon': ['concept:weatherphenomenon:rain',\n",
       "  'concept:weatherphenomenon:wind',\n",
       "  'concept:weatherphenomenon:storm'],\n",
       " 'concept:perceptionevent': ['concept:perceptionevent:flash',\n",
       "  'concept:perceptionevent:sound',\n",
       "  'concept:perceptionevent:light'],\n",
       " 'concept:archaea': ['concept:drug:herceptin',\n",
       "  'concept:drug:divalproex',\n",
       "  'concept:drug:mometasone'],\n",
       " 'concept:visualizableattribute': ['concept:color:maroon',\n",
       "  'concept:color:cream',\n",
       "  'concept:geometricshape:vertex'],\n",
       " 'concept:fruit': ['concept:plant:hickory',\n",
       "  'concept:fruit:sunflower_seed',\n",
       "  'concept:agriculturalproduct:dry_beans']}"
      ]
     },
     "execution_count": 60,
     "metadata": {},
     "output_type": "execute_result"
    }
   ],
   "source": [
    "{id2class[k]: [id2ent[x] for x in v[:3]] for k, v in list(class2id2ent2id.items())[:5]}"
   ]
  },
  {
   "cell_type": "code",
   "execution_count": 61,
   "id": "4dcb11ac-fb19-4e1c-9c9a-e79d98fe4420",
   "metadata": {},
   "outputs": [],
   "source": [
    "r2id2dom2id={\n",
    "    rel2id[k]: class2id[v]\n",
    "    for k, v in domains.items()\n",
    "}\n",
    "\n",
    "r2id2range2id={\n",
    "    rel2id[k]: class2id[v]\n",
    "    for k, v in ranges.items()\n",
    "}"
   ]
  },
  {
   "cell_type": "code",
   "execution_count": 62,
   "id": "2f265227-45d8-4fae-8763-49debe8bcf24",
   "metadata": {},
   "outputs": [],
   "source": [
    "with open(f\"{dest_pkl_folder}subclassof2id.pkl\", \"wb\") as handle:\n",
    "    dump(observed_heads_original_kg, handle)\n",
    "\n",
    "with open(f\"{dest_pkl_folder}subclassof_all2id.pkl\", \"wb\") as handle:\n",
    "    dump(observed_heads_inv, handle)\n",
    "\n",
    "with open(f\"{dest_pkl_folder}inst_type.pkl\", \"wb\") as handle:\n",
    "    dump(observed_tails_original_kg, handle)\n",
    "\n",
    "with open(f\"{dest_pkl_folder}inst_type_all.pkl\", \"wb\") as handle:\n",
    "    dump(observed_tails_inv, handle)\n",
    "\n",
    "with open(f\"{dest_pkl_folder}class2id2ent2id.pkl\", \"wb\") as handle:\n",
    "    dump(observed_tails_inv, handle)\n",
    "\n",
    "with open(f\"{dest_pkl_folder}r2id2dom2id.pkl\", \"wb\") as handle:\n",
    "    dump(r2id2dom2id, handle)\n",
    "\n",
    "with open(f\"{dest_pkl_folder}r2id2range2id.pkl\", \"wb\") as handle:\n",
    "    dump(r2id2dom2id, handle)"
   ]
  },
  {
   "cell_type": "markdown",
   "id": "eaaaf054-7cbd-48d2-986e-e4067b4497a3",
   "metadata": {},
   "source": [
    "# Analysis"
   ]
  },
  {
   "cell_type": "code",
   "execution_count": 64,
   "id": "0139259e-e99f-464a-9ae8-9178e00d6542",
   "metadata": {},
   "outputs": [],
   "source": [
    "from pickle import load\n",
    "import plotly.graph_objects as go"
   ]
  },
  {
   "cell_type": "code",
   "execution_count": 65,
   "id": "35bfe941-2245-4504-9b4b-f40c4825fbe5",
   "metadata": {},
   "outputs": [],
   "source": [
    "rel2id = None\n",
    "\n",
    "with open(f\"{dest_pkl_folder}rel2id.pkl\", \"rb\") as handle:\n",
    "    rel2id = load(handle)\n",
    "\n",
    "id2rel = {v: k for k, v in rel2id.items()}\n",
    "\n",
    "with open(f\"{dest_pkl_folder}r2id2dom2id.pkl\", \"rb\") as handle:\n",
    "    r2id2dom2id = load(handle)\n",
    "\n",
    "r2id2range2id = None\n",
    "\n",
    "with open(f\"{dest_pkl_folder}r2id2range2id.pkl\", \"rb\") as handle:\n",
    "    r2id2range2id = load(handle)\n",
    "\n",
    "observed_heads_original_kg = None\n",
    "\n",
    "with open(f\"{dest_pkl_folder}observed_heads_original_kg.pkl\", \"rb\") as handle:\n",
    "    observed_heads_original_kg = load(handle)\n",
    "\n",
    "class2id2ent2id = None\n",
    "\n",
    "with open(f\"{dest_pkl_folder}class2id2ent2id.pkl\", \"rb\") as handle:\n",
    "    class2id2ent2id = load(handle)"
   ]
  },
  {
   "cell_type": "code",
   "execution_count": 66,
   "id": "c633694f-c8a3-4610-8c0e-c4a3c4c4d980",
   "metadata": {},
   "outputs": [
    {
     "data": {
      "text/plain": [
       "(200, 95.0, 0.0, 0, 5.0)"
      ]
     },
     "execution_count": 66,
     "metadata": {},
     "output_type": "execute_result"
    }
   ],
   "source": [
    "total=len(rel2id.values())\n",
    "\n",
    "signed=[\n",
    "    p\n",
    "    for p in rel2id.values()\n",
    "    if p in r2id2dom2id.keys() \n",
    "    and p in r2id2range2id.keys()\n",
    "]\n",
    "\n",
    "domain_no_range = [\n",
    "    p\n",
    "    for p in rel2id.values()\n",
    "    if p in r2id2dom2id.keys() \n",
    "    and not p in r2id2range2id.keys()\n",
    "]\n",
    "\n",
    "range_no_domain = [\n",
    "    p\n",
    "    for p in rel2id.values()\n",
    "    if not p in r2id2dom2id.keys() \n",
    "    and p in r2id2range2id.keys()\n",
    "]\n",
    "\n",
    "not_signed = [\n",
    "    p\n",
    "    for p in rel2id.values()\n",
    "    if not p in r2id2dom2id.keys() \n",
    "    and not p in r2id2range2id.keys()\n",
    "]\n",
    "\n",
    "total, int(10000*len(signed)/total)/100, int(10000*len(domain_no_range)/total)/100, int(10000*len(range_no_domain)/total/100), int(10000*len(not_signed)/total)/100"
   ]
  },
  {
   "cell_type": "code",
   "execution_count": 67,
   "id": "734b3dfd-267e-47ca-8fe4-9137e7e9392c",
   "metadata": {},
   "outputs": [
    {
     "data": {
      "text/plain": [
       "(200, 190, 0, 0, 10)"
      ]
     },
     "execution_count": 67,
     "metadata": {},
     "output_type": "execute_result"
    }
   ],
   "source": [
    "total, len(signed), len(domain_no_range), len(range_no_domain), len(not_signed)"
   ]
  },
  {
   "cell_type": "code",
   "execution_count": 68,
   "id": "de6e17bb-e07c-45c5-a5f6-b9969f286339",
   "metadata": {},
   "outputs": [],
   "source": [
    "predicate_count={id: 0 for id in rel2id.values()}\n",
    "\n",
    "def display_chart(splits=[\"train\", \"test\", \"valid\"]):\n",
    "    \n",
    "    predicate_count={id: 0 for id in rel2id.values()}\n",
    "    \n",
    "    for split in splits:\n",
    "        nb_lines=sum(1 for _ in open(f\"{dest_txt_folder}{split}2id.txt\", \"r\", encoding=\"utf-8\"))\n",
    "        with open(f\"{dest_txt_folder}{split}2id.txt\", \"r\", encoding='utf-8') as r:\n",
    "            with tqdm(enumerate(r), total=nb_lines, disable=True) as bar:\n",
    "                for i, line in bar:\n",
    "                    p = int(line.strip().split(\"\\t\")[1])\n",
    "                    predicate_count[p] += 1\n",
    "        \n",
    "    total_count=sum(predicate_count.values())\n",
    "    \n",
    "    signed_count=sum([\n",
    "        predicate_count[p]\n",
    "        for p in signed\n",
    "    ])\n",
    "    \n",
    "    domain_no_range_count = sum([\n",
    "        predicate_count[p]\n",
    "        for p in domain_no_range\n",
    "    ])\n",
    "    \n",
    "    range_no_domain_count = sum([\n",
    "        predicate_count[p]\n",
    "        for p in range_no_domain\n",
    "    ])\n",
    "    \n",
    "    not_signed_count = sum([\n",
    "        predicate_count[p]\n",
    "        for p in not_signed\n",
    "    ])\n",
    "    \n",
    "    def percent(number, total, precision=4):\n",
    "        if total == 0:\n",
    "            return \"??\"\n",
    "        return int((10**precision)*number/total)/(10**(precision - 2))\n",
    "    \n",
    "    print(\"In number of triples:\\n\")\n",
    "    print(total_count, signed_count, domain_no_range_count, range_no_domain_count, not_signed_count)\n",
    "    \n",
    "    print(\"\\nIn percentage of triples:\\n\")\n",
    "    print(total_count, percent(signed_count, total_count), percent(domain_no_range_count, total_count), percent(range_no_domain_count, total_count), percent(not_signed_count, total_count))\n",
    "\n",
    "\n",
    "    predicate_domains_instances = {i: len(class2id2ent2id[r2id2dom2id[i]]) for i in r2id2dom2id.keys()}\n",
    "    \n",
    "    not_instanciated_domains = [k for k in predicate_domains_instances.keys() if predicate_domains_instances[k] == 0]\n",
    "    \n",
    "    not_instanciated_domains_count = sum([predicate_count[p] for p in not_instanciated_domains])\n",
    "    not_instanciated_domains_for_signed_count = sum([predicate_count[p] for p in not_instanciated_domains if p in signed])\n",
    "    not_instanciated_domains_for_domained_count = sum([predicate_count[p] for p in not_instanciated_domains if p in domain_no_range])\n",
    "    predicate_ranges_instances = {i: len(class2id2ent2id[r2id2range2id[i]]) for i in r2id2range2id.keys()}\n",
    "    \n",
    "    not_instanciated_ranges = [k for k in predicate_ranges_instances.keys() if predicate_ranges_instances[k] == 0]\n",
    "    \n",
    "    not_instanciated_ranges_count = sum([predicate_count[p] for p in not_instanciated_ranges])\n",
    "    not_instanciated_ranges_for_signed_count = sum([predicate_count[p] for p in not_instanciated_ranges if p in signed])\n",
    "    not_instanciated_ranges_for_ranged_count = sum([predicate_count[p] for p in not_instanciated_ranges if p in range_no_domain])\n",
    "    \n",
    "    print(\n",
    "        \"These domained predicates have no instances:\\n\",\n",
    "        \"\\t\" + \"\\n\\t\".join([id2rel[p] for p in not_instanciated_domains])\n",
    "    )\n",
    "    \n",
    "    print(\n",
    "        \"\\n These ranged predicates have no instances:\\n\",\n",
    "        \"\\t\" + \"\\n\\t\".join([id2rel[p] for p in not_instanciated_ranges])\n",
    "    )\n",
    "    \n",
    "    print(\"\\nOverlap between these sets?\", len([x for x in not_instanciated_ranges if x in not_instanciated_domains]) > 0)\n",
    "    \n",
    "    not_instanciated_signatures_for_signed_count = (not_instanciated_domains_for_signed_count + not_instanciated_ranges_for_signed_count)\n",
    "    \n",
    "    print(\n",
    "        \"\\nImpact on signed triples: \",\n",
    "        f\"{not_instanciated_signatures_for_signed_count} ({percent(not_instanciated_signatures_for_signed_count, signed_count)}% of fully signed triples)\"\n",
    "    )\n",
    "    \n",
    "    print(\n",
    "        \"Impact on domained triples: \",\n",
    "        f\"{not_instanciated_domains_for_domained_count} ({percent(not_instanciated_domains_for_domained_count, domain_no_range_count)}% of domained triples)\"\n",
    "    )\n",
    "    \n",
    "    print(\n",
    "        \"Impact on ranged triples: \",\n",
    "        f\"{not_instanciated_ranges_for_ranged_count} ({percent(not_instanciated_ranges_for_ranged_count, range_no_domain_count)}% of ranged triples)\"\n",
    "    )\n",
    "\n",
    "    x_divider=8\n",
    "    y_divider=20\n",
    "    y_offset=0.65\n",
    "    \n",
    "    nodes = {\n",
    "        0: {\n",
    "            'label': 'Total',\n",
    "            'x': 0/x_divider,\n",
    "            'y': 0/y_divider+y_offset\n",
    "        },\n",
    "        1: {\n",
    "            'label': 'Full sign', \n",
    "            'x': 1/x_divider,\n",
    "            'y': 4/y_divider+y_offset\n",
    "        },\n",
    "        4: {\n",
    "            'label': 'No sign',\n",
    "            'x': 2/x_divider,\n",
    "            'y': -9/y_divider+y_offset\n",
    "        }\n",
    "    }\n",
    "    #fig.write_image(f\"{destination_folder}fig1.png\", engine='orca', width=1500, height=450)"
   ]
  },
  {
   "cell_type": "code",
   "execution_count": 69,
   "id": "3771c1a5-2fe8-4c3a-bd17-8b75c409b5ea",
   "metadata": {},
   "outputs": [
    {
     "name": "stdout",
     "output_type": "stream",
     "text": [
      "\n",
      " TRAIN SPLIT \n",
      "\n",
      "In number of triples:\n",
      "\n",
      "149678 109800 0 0 39878\n",
      "\n",
      "In percentage of triples:\n",
      "\n",
      "149678 73.35 0.0 0.0 26.64\n",
      "These domained predicates have no instances:\n",
      " \t\n",
      "\n",
      " These ranged predicates have no instances:\n",
      " \t\n",
      "\n",
      "Overlap between these sets? False\n",
      "\n",
      "Impact on signed triples:  0 (0.0% of fully signed triples)\n",
      "Impact on domained triples:  0 (??% of domained triples)\n",
      "Impact on ranged triples:  0 (??% of ranged triples)\n",
      "\n",
      " TEST SPLIT \n",
      "\n",
      "In number of triples:\n",
      "\n",
      "3992 3992 0 0 0\n",
      "\n",
      "In percentage of triples:\n",
      "\n",
      "3992 100.0 0.0 0.0 0.0\n",
      "These domained predicates have no instances:\n",
      " \t\n",
      "\n",
      " These ranged predicates have no instances:\n",
      " \t\n",
      "\n",
      "Overlap between these sets? False\n",
      "\n",
      "Impact on signed triples:  0 (0.0% of fully signed triples)\n",
      "Impact on domained triples:  0 (??% of domained triples)\n",
      "Impact on ranged triples:  0 (??% of ranged triples)\n",
      "\n",
      " VALID SPLIT \n",
      "\n",
      "In number of triples:\n",
      "\n",
      "543 543 0 0 0\n",
      "\n",
      "In percentage of triples:\n",
      "\n",
      "543 100.0 0.0 0.0 0.0\n",
      "These domained predicates have no instances:\n",
      " \t\n",
      "\n",
      " These ranged predicates have no instances:\n",
      " \t\n",
      "\n",
      "Overlap between these sets? False\n",
      "\n",
      "Impact on signed triples:  0 (0.0% of fully signed triples)\n",
      "Impact on domained triples:  0 (??% of domained triples)\n",
      "Impact on ranged triples:  0 (??% of ranged triples)\n"
     ]
    }
   ],
   "source": [
    "print(\"\\n TRAIN SPLIT \\n\")\n",
    "\n",
    "display_chart(splits=[\"train\"])\n",
    "\n",
    "print(\"\\n TEST SPLIT \\n\")\n",
    "\n",
    "display_chart(splits=[\"test\"])\n",
    "\n",
    "print(\"\\n VALID SPLIT \\n\")\n",
    "\n",
    "display_chart(splits=[\"valid\"])"
   ]
  },
  {
   "cell_type": "code",
   "execution_count": null,
   "id": "a8eab81a-fa46-4082-8614-553bba614ff8",
   "metadata": {},
   "outputs": [],
   "source": []
  }
 ],
 "metadata": {
  "kernelspec": {
   "display_name": "new-expe",
   "language": "python",
   "name": "new-expe"
  },
  "language_info": {
   "codemirror_mode": {
    "name": "ipython",
    "version": 3
   },
   "file_extension": ".py",
   "mimetype": "text/x-python",
   "name": "python",
   "nbconvert_exporter": "python",
   "pygments_lexer": "ipython3",
   "version": "3.12.4"
  }
 },
 "nbformat": 4,
 "nbformat_minor": 5
}
