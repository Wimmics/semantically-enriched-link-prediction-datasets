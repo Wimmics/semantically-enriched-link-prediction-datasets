{
 "cells": [
  {
   "cell_type": "markdown",
   "id": "b539caf6-9792-47d3-944a-79b72e0c5d8a",
   "metadata": {},
   "source": [
    "# YAGO 3-10+"
   ]
  },
  {
   "cell_type": "code",
   "execution_count": 2,
   "id": "5ef5cbf0-15de-4565-b7bd-4d8948868a8b",
   "metadata": {},
   "outputs": [
    {
     "name": "stdout",
     "output_type": "stream",
     "text": [
      "Requirement already satisfied: py7zr in c:\\users\\nrobert\\appdata\\local\\anaconda3\\envs\\datasets\\lib\\site-packages (0.22.0)\n",
      "Requirement already satisfied: texttable in c:\\users\\nrobert\\appdata\\local\\anaconda3\\envs\\datasets\\lib\\site-packages (from py7zr) (1.7.0)\n",
      "Requirement already satisfied: pycryptodomex>=3.16.0 in c:\\users\\nrobert\\appdata\\local\\anaconda3\\envs\\datasets\\lib\\site-packages (from py7zr) (3.23.0)\n",
      "Requirement already satisfied: pyzstd>=0.15.9 in c:\\users\\nrobert\\appdata\\local\\anaconda3\\envs\\datasets\\lib\\site-packages (from py7zr) (0.17.0)\n",
      "Requirement already satisfied: pyppmd<1.2.0,>=1.1.0 in c:\\users\\nrobert\\appdata\\local\\anaconda3\\envs\\datasets\\lib\\site-packages (from py7zr) (1.1.1)\n",
      "Requirement already satisfied: pybcj<1.1.0,>=1.0.0 in c:\\users\\nrobert\\appdata\\local\\anaconda3\\envs\\datasets\\lib\\site-packages (from py7zr) (1.0.6)\n",
      "Requirement already satisfied: multivolumefile>=0.2.3 in c:\\users\\nrobert\\appdata\\local\\anaconda3\\envs\\datasets\\lib\\site-packages (from py7zr) (0.2.3)\n",
      "Requirement already satisfied: inflate64<1.1.0,>=1.0.0 in c:\\users\\nrobert\\appdata\\local\\anaconda3\\envs\\datasets\\lib\\site-packages (from py7zr) (1.0.1)\n",
      "Requirement already satisfied: brotli>=1.1.0 in c:\\users\\nrobert\\appdata\\local\\anaconda3\\envs\\datasets\\lib\\site-packages (from py7zr) (1.1.0)\n",
      "Requirement already satisfied: psutil in c:\\users\\nrobert\\appdata\\local\\anaconda3\\envs\\datasets\\lib\\site-packages (from py7zr) (7.0.0)\n",
      "Requirement already satisfied: typing-extensions>=4.13.2 in c:\\users\\nrobert\\appdata\\local\\anaconda3\\envs\\datasets\\lib\\site-packages (from pyzstd>=0.15.9->py7zr) (4.13.2)\n"
     ]
    }
   ],
   "source": [
    "from glob import glob\n",
    "from tqdm import tqdm\n",
    "from pickle import dump, load, HIGHEST_PROTOCOL\n",
    "from os import makedirs\n",
    "from os.path import exists\n",
    "from urllib.request import urlopen\n",
    "from bz2 import open as bz2open\n",
    "from shutil import copy as copy_file\n",
    "import gzip\n",
    "import tarfile\n",
    "from subprocess import run, PIPE\n",
    "\n",
    "from random import randint\n",
    "\n",
    "!pip install py7zr"
   ]
  },
  {
   "cell_type": "code",
   "execution_count": 3,
   "id": "e493c3d3-e414-408c-8042-6eaea1857ba4",
   "metadata": {},
   "outputs": [],
   "source": [
    "draft_folder=f\"../draft/YAGO3-10+\"\n",
    "destination_folder=f\".\""
   ]
  },
  {
   "cell_type": "code",
   "execution_count": 4,
   "id": "22acdb09-67ed-4a20-bf8a-2f73fb18bfd7",
   "metadata": {},
   "outputs": [],
   "source": [
    "draft_folder=f\"{draft_folder}{'' if draft_folder.endswith('/') else '/'}\"\n",
    "destination_folder=f\"{destination_folder}{'' if destination_folder.endswith('/') else '/'}\"\n",
    "\n",
    "YAGO3_10_LP_DATASET_FOLDER=\"https://github.com/TimDettmers/ConvE/raw/refs/heads/master/\"\n",
    "YAGO3_10_LP_DATASET_FILE=\"YAGO3-10.tar.gz\"\n",
    "YAGO3_10_ARCHIVE_URL_FOLDER = \"https://yago-knowledge.org/data/yago3/\"\n",
    "YAGO3_10_ARCHIVE_URL_FILE=\"yago-3.0.2-turtle-simple.7z\"\n",
    "\n",
    "YAGO3_10_LP=f\"{draft_folder}LP/\"\n",
    "YAGO3_10=f\"{draft_folder}YAGO3-10/\"\n",
    "YAGO3=f\"{draft_folder}YAGO3/\"\n",
    "\n",
    "dest_txt_folder=destination_folder\n",
    "dest_pkl_folder=f\"{destination_folder}pickle/\""
   ]
  },
  {
   "cell_type": "code",
   "execution_count": 5,
   "id": "5ada7129-e856-4c90-8b1e-6d3d292c339d",
   "metadata": {},
   "outputs": [],
   "source": [
    "for folder in [\n",
    "    draft_folder,\n",
    "    dest_txt_folder,\n",
    "    dest_pkl_folder,\n",
    "    YAGO3_10_LP,\n",
    "    YAGO3_10,\n",
    "    YAGO3\n",
    "]: \n",
    "    makedirs(folder, exist_ok=True)"
   ]
  },
  {
   "cell_type": "code",
   "execution_count": 6,
   "id": "6346fce3-d101-4a93-acda-c0d701bfcb7b",
   "metadata": {},
   "outputs": [
    {
     "name": "stderr",
     "output_type": "stream",
     "text": [
      "C:\\Users\\nrobert\\AppData\\Local\\Temp\\ipykernel_2864\\3085004144.py:12: DeprecationWarning: Python 3.14 will, by default, filter extracted tar archives and reject files or modify their metadata. Use the filter argument to control this behavior.\n",
      "  tar.extractall(f\"{draft_folder}{YAGO3_10_LP_DATASET_FILE[:-7]}\")\n"
     ]
    }
   ],
   "source": [
    "if not exists(f\"{draft_folder}{YAGO3_10_LP_DATASET_FILE[:-7]}/train.txt\") \\\n",
    "    or not exists(f\"{draft_folder}{YAGO3_10_LP_DATASET_FILE[:-7]}/test.txt\") \\\n",
    "    or not exists(f\"{draft_folder}{YAGO3_10_LP_DATASET_FILE[:-7]}/train.txt\"):\n",
    "\n",
    "    if not exists(f\"{YAGO3_10_LP_DATASET_FOLDER}{YAGO3_10_LP_DATASET_FILE}\"):\n",
    "\n",
    "        with urlopen(f\"{YAGO3_10_LP_DATASET_FOLDER}{YAGO3_10_LP_DATASET_FILE}\") as file_online:\n",
    "            with open(f\"{draft_folder}{YAGO3_10_LP_DATASET_FILE}\", \"wb\") as file_local:\n",
    "                file_local.write(file_online.read())\n",
    "    \n",
    "    tar = tarfile.open(f\"{draft_folder}{YAGO3_10_LP_DATASET_FILE}\", 'r:gz')\n",
    "    tar.extractall(f\"{draft_folder}{YAGO3_10_LP_DATASET_FILE[:-7]}\")\n",
    "    tar.close()"
   ]
  },
  {
   "cell_type": "code",
   "execution_count": 7,
   "id": "73c3888f-ecc3-4a5c-83e6-b7526050541a",
   "metadata": {},
   "outputs": [],
   "source": [
    "if not exists(f\"{YAGO3}{YAGO3_10_ARCHIVE_URL_FILE}\"):\n",
    "    with urlopen(f\"{YAGO3_10_ARCHIVE_URL_FOLDER}{YAGO3_10_ARCHIVE_URL_FILE}\") as file_online:\n",
    "        with open(f\"{YAGO3}{YAGO3_10_ARCHIVE_URL_FILE}\", \"wb\") as file_local:\n",
    "            file_local.write(file_online.read())"
   ]
  },
  {
   "cell_type": "code",
   "execution_count": 8,
   "id": "61894d5d-7be3-4e84-8256-8736f5c0fc31",
   "metadata": {},
   "outputs": [
    {
     "name": "stdout",
     "output_type": "stream",
     "text": [
      "py7zr x ../draft/YAGO3-10+/YAGO3/yago-3.0.2-turtle-simple.7z ../draft/YAGO3-10+/YAGO3/yago-3.0.2-turtle-simple\n",
      "Standard output:\n",
      "b''\n",
      "Standard error:\n",
      "b''\n"
     ]
    }
   ],
   "source": [
    "if not exists(f\"{YAGO3}yago-3.0.2-turtle-simple/yagoTypes.ttl\") \\\n",
    "    or not exists(f\"{YAGO3}yago-3.0.2-turtle-simple/yagoSchema.ttl\") \\\n",
    "    or not exists(f\"{YAGO3}yago-3.0.2-turtle-simple/yagoTaxonomy.ttl\"):\n",
    "    makedirs(f\"{YAGO3}{YAGO3_10_ARCHIVE_URL_FILE}\"[:-3], exist_ok=True)\n",
    "    \n",
    "    packed_file=f\"{YAGO3}{YAGO3_10_ARCHIVE_URL_FILE}\"\n",
    "    unpack_folder=packed_file[:-3]\n",
    "    \n",
    "    print(f\"py7zr x {packed_file} {unpack_folder}\")\n",
    "    unpack_command = run([\"py7zr\", \"x\", packed_file, unpack_folder], stdout = PIPE, stderr = PIPE)\n",
    "    \n",
    "    print(\"Standard output:\")\n",
    "    print(unpack_command.stdout)\n",
    "    \n",
    "    if \"stderr\" in dir(unpack_command):\n",
    "        print(\"Standard error:\")\n",
    "        print(unpack_command.stderr)"
   ]
  },
  {
   "cell_type": "markdown",
   "id": "efc8644c-b12a-4ecf-96d2-27e93f86f736",
   "metadata": {},
   "source": [
    "# ent2id, rel2id, class2id"
   ]
  },
  {
   "cell_type": "code",
   "execution_count": 10,
   "id": "c75be7d7-bb16-415a-8640-c974f0e262e7",
   "metadata": {},
   "outputs": [
    {
     "name": "stderr",
     "output_type": "stream",
     "text": [
      "Extracting entities and relations from train.txt: 100%|██████████████████| 1079040/1079040 [00:02<00:00, 532150.30it/s]\n",
      "Extracting entities and relations from test.txt: 100%|█████████████████████████| 5000/5000 [00:00<00:00, 322197.61it/s]\n",
      "Extracting entities and relations from valid.txt: 100%|████████████████████████| 5000/5000 [00:00<00:00, 321994.78it/s]\n"
     ]
    }
   ],
   "source": [
    "rels = set([])\n",
    "ents = set([])\n",
    "\n",
    "for file in [\n",
    "    \"train.txt\",\n",
    "    \"test.txt\",\n",
    "    \"valid.txt\"\n",
    "]:\n",
    "    file_path=f\"{YAGO3_10}{file}\"\n",
    "    nb_lines=sum(1 for _ in open(file_path, \"r\", encoding=\"utf-8\"))\n",
    "    with open(file_path, \"r\", encoding=\"utf-8\") as split:\n",
    "        with tqdm(enumerate(split), total=nb_lines) as bar:\n",
    "            bar.set_description(f\"Extracting entities and relations from {file}\")\n",
    "            for i, line in bar:\n",
    "                s, p, o = line.strip().split(\"\\t\")\n",
    "    \n",
    "                s=f\"http://yago-knowledge.org/resource/{s}\"\n",
    "                p=f\"http://yago-knowledge.org/resource/{p}\"\n",
    "                o=f\"http://yago-knowledge.org/resource/{o}\"\n",
    "    \n",
    "                ents.add(s)\n",
    "                ents.add(o)\n",
    "                rels.add(p)"
   ]
  },
  {
   "cell_type": "code",
   "execution_count": 11,
   "id": "3cd19343-c05d-4c68-b66e-f47c6d94c492",
   "metadata": {},
   "outputs": [
    {
     "data": {
      "text/plain": [
       "(123182, 37)"
      ]
     },
     "execution_count": 11,
     "metadata": {},
     "output_type": "execute_result"
    }
   ],
   "source": [
    "len(list(ents)), len(list(rels))"
   ]
  },
  {
   "cell_type": "code",
   "execution_count": 12,
   "id": "504950c8-0f44-43d5-b98e-e646e9a4f40b",
   "metadata": {},
   "outputs": [],
   "source": [
    "rel2id = {rel: i for i, rel in enumerate(list(rels))}\n",
    "id2rel = {i: rel for rel, i in rel2id.items()}\n",
    "\n",
    "with open(f\"{dest_pkl_folder}rel2id.pkl\", \"wb\") as handle:\n",
    "    dump(rel2id, handle)\n",
    "\n",
    "ent2id = {ent: i for i, ent in enumerate(list(ents))}\n",
    "id2ent = {i: ent for ent, i in ent2id.items()}\n",
    "\n",
    "with open(f\"{dest_pkl_folder}ent2id.pkl\", \"wb\") as handle:\n",
    "    dump(ent2id, handle)"
   ]
  },
  {
   "cell_type": "code",
   "execution_count": 13,
   "id": "0a14b9e2-977b-4ad1-89fe-33fd65d6df65",
   "metadata": {},
   "outputs": [
    {
     "data": {
      "text/plain": [
       "{'http://yago-knowledge.org/resource/Aleksei_Bugayev': 0,\n",
       " 'http://yago-knowledge.org/resource/Vincent_Planté': 1,\n",
       " 'http://yago-knowledge.org/resource/Anton_Weissenbacher': 2,\n",
       " 'http://yago-knowledge.org/resource/Mindelo': 3,\n",
       " 'http://yago-knowledge.org/resource/Lonoke,_Arkansas': 4,\n",
       " 'http://yago-knowledge.org/resource/Aizuwakamatsu,_Fukushima': 5,\n",
       " 'http://yago-knowledge.org/resource/José_Fábio_da_Silva': 6,\n",
       " 'http://yago-knowledge.org/resource/Borough_of_Newcastle-under-Lyme': 7,\n",
       " 'http://yago-knowledge.org/resource/Mazovia': 8,\n",
       " 'http://yago-knowledge.org/resource/Andapa_District': 9}"
      ]
     },
     "execution_count": 13,
     "metadata": {},
     "output_type": "execute_result"
    }
   ],
   "source": [
    "{k: v for k, v in list(ent2id.items())[:10]}"
   ]
  },
  {
   "cell_type": "code",
   "execution_count": 14,
   "id": "8a70656f-582b-4348-b101-7016f3ffd614",
   "metadata": {},
   "outputs": [
    {
     "data": {
      "text/plain": [
       "{'http://yago-knowledge.org/resource/livesIn': 0,\n",
       " 'http://yago-knowledge.org/resource/hasMusicalRole': 1,\n",
       " 'http://yago-knowledge.org/resource/participatedIn': 2,\n",
       " 'http://yago-knowledge.org/resource/wroteMusicFor': 3,\n",
       " 'http://yago-knowledge.org/resource/worksAt': 4,\n",
       " 'http://yago-knowledge.org/resource/created': 5,\n",
       " 'http://yago-knowledge.org/resource/playsFor': 6,\n",
       " 'http://yago-knowledge.org/resource/influences': 7,\n",
       " 'http://yago-knowledge.org/resource/hasGender': 8,\n",
       " 'http://yago-knowledge.org/resource/isLocatedIn': 9}"
      ]
     },
     "execution_count": 14,
     "metadata": {},
     "output_type": "execute_result"
    }
   ],
   "source": [
    "{k: v for k, v in list(rel2id.items())[:10]}"
   ]
  },
  {
   "cell_type": "markdown",
   "id": "c71295f3-8411-405a-9a14-b806d4531180",
   "metadata": {},
   "source": [
    "### Encode train, test, valid splits"
   ]
  },
  {
   "cell_type": "code",
   "execution_count": 16,
   "id": "403454cb-f379-490b-84b5-850cd29f71ab",
   "metadata": {},
   "outputs": [
    {
     "name": "stderr",
     "output_type": "stream",
     "text": [
      "Encoding train2id.txt: 100%|█████████████████████████████████████████████| 1079040/1079040 [00:03<00:00, 298053.94it/s]\n",
      "Encoding train2id_inv.txt: 100%|█████████████████████████████████████████| 1079040/1079040 [00:01<00:00, 671969.65it/s]\n",
      "Encoding test2id.txt: 100%|████████████████████████████████████████████████████| 5000/5000 [00:00<00:00, 161015.93it/s]\n",
      "Encoding test2id_inv.txt: 100%|████████████████████████████████████████████████| 5000/5000 [00:00<00:00, 739188.61it/s]\n",
      "Encoding valid2id.txt: 100%|███████████████████████████████████████████████████| 5000/5000 [00:00<00:00, 321723.10it/s]\n",
      "Encoding valid2id_inv.txt: 100%|███████████████████████████████████████████████| 5000/5000 [00:00<00:00, 321910.76it/s]\n"
     ]
    }
   ],
   "source": [
    "inverse_predicate_offset = max(rel2id.values()) + 1\n",
    "for split in [\"train\", \"test\", \"valid\"]:\n",
    "    nb_lines=sum(1 for _ in open(f\"{YAGO3_10}{split}.txt\", \"r\", encoding=\"utf-8\"))\n",
    "    with open(f\"{YAGO3_10}{split}.txt\", \"r\", encoding='utf-8') as r:\n",
    "        with open(f\"{dest_txt_folder}{split}2id.txt\", \"w+\", encoding='utf-8') as w:\n",
    "            with tqdm(enumerate(r), total=nb_lines) as bar:\n",
    "                bar.set_description(f\"Encoding {split}2id.txt\")\n",
    "                for i, line in bar:\n",
    "                    s, p, o = line.strip().split(\"\\t\")\n",
    "\n",
    "                    s=f\"http://yago-knowledge.org/resource/{s}\"\n",
    "                    p=f\"http://yago-knowledge.org/resource/{p}\"\n",
    "                    o=f\"http://yago-knowledge.org/resource/{o}\"\n",
    "                    \n",
    "                    encoded_s = ent2id[s]\n",
    "                    encoded_p = rel2id[p]\n",
    "                    encoded_o = ent2id[o]\n",
    "                    \n",
    "                    w.write(f\"{encoded_s}\\t{encoded_p}\\t{encoded_o}\\n\")   \n",
    "                    \n",
    "        copy_file(f\"{dest_txt_folder}{split}2id.txt\", f\"{dest_txt_folder}{split}2id_inv.txt\")\n",
    "        with open(f\"{dest_txt_folder}{split}2id.txt\", \"r\", encoding='utf-8') as r:\n",
    "            with open(f\"{dest_txt_folder}{split}2id_inv.txt\", \"a\", encoding='utf-8') as a:\n",
    "                with tqdm(enumerate(r), total=nb_lines) as bar:\n",
    "                    bar.set_description(f\"Encoding {split}2id_inv.txt\")\n",
    "                    for i, line in bar:\n",
    "                        s, p, o = line.strip().split(\"\\t\")\n",
    "                        p = int(p)\n",
    "                        a.write(f\"{o}\\t{p+inverse_predicate_offset}\\t{s}\\n\")"
   ]
  },
  {
   "cell_type": "markdown",
   "id": "8c17dfe1-e52e-441a-8cc6-b96276b1d0e4",
   "metadata": {},
   "source": [
    "# observed_heads_original_kg, observed_tails_original_kg, observed_heads_inv, observed_tails_inv"
   ]
  },
  {
   "cell_type": "code",
   "execution_count": 18,
   "id": "c7b46fa5-33db-4902-a21d-4efe88747f48",
   "metadata": {},
   "outputs": [
    {
     "name": "stderr",
     "output_type": "stream",
     "text": [
      "Indexing triples from train2id.txt: 100%|████████████████████████████████| 1079040/1079040 [00:09<00:00, 116023.88it/s]\n",
      "Indexing triples from test2id.txt: 100%|███████████████████████████████████████| 5000/5000 [00:00<00:00, 158778.92it/s]\n",
      "Indexing triples from valid2id.txt: 100%|██████████████████████████████████████| 5000/5000 [00:00<00:00, 107248.16it/s]\n"
     ]
    }
   ],
   "source": [
    "observed_heads_original_kg={}\n",
    "observed_heads_inv={}\n",
    "observed_tails_original_kg={}\n",
    "observed_tails_inv={}\n",
    "\n",
    "def observe(d, a, b, c):\n",
    "    if not a in d.keys():\n",
    "        d[a]={}\n",
    "\n",
    "    if not b in d[a].keys():\n",
    "        d[a][b]=[c]\n",
    "    else:\n",
    "        d[a][b].append(c)\n",
    "\n",
    "\n",
    "for split in [\"train\", \"test\", \"valid\"]:\n",
    "    nb_lines=sum(1 for _ in open(f\"{dest_txt_folder}{split}2id.txt\", \"r\", encoding=\"utf-8\"))\n",
    "    with open(f\"{dest_txt_folder}{split}2id.txt\", \"r\", encoding='utf-8') as r:\n",
    "        with tqdm(enumerate(r), total=nb_lines) as bar:\n",
    "            bar.set_description(f\"Indexing triples from {split}2id.txt\")\n",
    "            for i, line in bar:\n",
    "                s, p, o = line.strip().split(\"\\t\")\n",
    "                s, p, o = int(s), int(p), int(o)\n",
    "\n",
    "                observe(observed_tails_original_kg, s, p, o)\n",
    "                observe(observed_tails_inv, s, p, o)\n",
    "                observe(observed_tails_inv, o, p + inverse_predicate_offset, s)\n",
    "\n",
    "                observe(observed_heads_original_kg, o, p, s)\n",
    "                observe(observed_heads_inv, o, p, s)\n",
    "                observe(observed_heads_inv, s, p + inverse_predicate_offset, o)"
   ]
  },
  {
   "cell_type": "code",
   "execution_count": 19,
   "id": "70ecd3b8-840a-4610-b9f4-cdd8f5f568b9",
   "metadata": {},
   "outputs": [],
   "source": [
    "with open(f\"{dest_pkl_folder}observed_heads_original_kg.pkl\", \"wb\") as handle:\n",
    "    dump(observed_heads_original_kg, handle)\n",
    "\n",
    "with open(f\"{dest_pkl_folder}observed_heads_inv.pkl\", \"wb\") as handle:\n",
    "    dump(observed_heads_inv, handle)\n",
    "\n",
    "with open(f\"{dest_pkl_folder}observed_tails_original_kg.pkl\", \"wb\") as handle:\n",
    "    dump(observed_tails_original_kg, handle)\n",
    "\n",
    "with open(f\"{dest_pkl_folder}observed_tails_inv.pkl\", \"wb\") as handle:\n",
    "    dump(observed_tails_inv, handle)"
   ]
  },
  {
   "cell_type": "markdown",
   "id": "b3a5f1ec-9861-4424-be17-a903e00ae62b",
   "metadata": {},
   "source": [
    "# classid"
   ]
  },
  {
   "cell_type": "code",
   "execution_count": 21,
   "id": "95b89292-acbe-421f-9569-4a03d3c6e5ab",
   "metadata": {},
   "outputs": [
    {
     "name": "stderr",
     "output_type": "stream",
     "text": [
      "100%|█████████████████████████████████████████████████████████████████| 33854055/33854055 [00:33<00:00, 1011144.93it/s]\n"
     ]
    }
   ],
   "source": [
    "instances={}\n",
    "\n",
    "nb_lines=sum(1 for _ in open(f\"{YAGO3}yago-3.0.2-turtle-simple/yagoTypes.ttl\", \"r\", encoding=\"utf-8\"))\n",
    "with open(f\"{YAGO3}yago-3.0.2-turtle-simple/yagoTypes.ttl\", \"r\", encoding='utf-8') as r:\n",
    "    with tqdm(enumerate(r), total=nb_lines) as bar:\n",
    "        for i, line in bar:\n",
    "            if not line.startswith(\"<\"):\n",
    "                continue\n",
    "            s, p, o, *_ = line.strip().split(\"\\t\")\n",
    "\n",
    "            if not p == \"rdf:type\":\n",
    "                continue\n",
    "\n",
    "            s = f\"http://yago-knowledge.org/resource/{s[1:-1]}\"\n",
    "            o = f\"http://yago-knowledge.org/resource/{o[1:-1]}\"\n",
    "\n",
    "            if not s in ents:\n",
    "                continue\n",
    "\n",
    "            if not s in instances.keys():\n",
    "                instances[s]=set([o])\n",
    "            else:\n",
    "                instances[s].add(o)"
   ]
  },
  {
   "cell_type": "code",
   "execution_count": 22,
   "id": "b8a410ba-344b-43e0-9aec-f0971b8bb0fa",
   "metadata": {},
   "outputs": [
    {
     "data": {
      "text/plain": [
       "{'http://yago-knowledge.org/resource/JS_Bordj_Ménaïel': ['http://yago-knowledge.org/resource/wikicat_Sports_clubs_in_Algeria',\n",
       "  'http://yago-knowledge.org/resource/wikicat_Association_football_clubs_established_in_1932',\n",
       "  'http://yago-knowledge.org/resource/wordnet_club_108227214',\n",
       "  'http://yago-knowledge.org/resource/wikicat_Football_clubs_in_Algeria'],\n",
       " 'http://yago-knowledge.org/resource/Eddie_Kaye_Thomas': ['http://yago-knowledge.org/resource/wikicat_American_male_stage_actors',\n",
       "  'http://yago-knowledge.org/resource/wikicat_American_people',\n",
       "  'http://yago-knowledge.org/resource/wikicat_American_television_actors',\n",
       "  'http://yago-knowledge.org/resource/wikicat_American_actors',\n",
       "  'http://yago-knowledge.org/resource/wikicat_Actors'],\n",
       " 'http://yago-knowledge.org/resource/Ahmet_Brković': ['http://yago-knowledge.org/resource/wikicat_Millwall_F.C._players',\n",
       "  'http://yago-knowledge.org/resource/wikicat_The_Football_League_players',\n",
       "  'http://yago-knowledge.org/resource/wikicat_HNK_Dubrovnik_players',\n",
       "  'http://yago-knowledge.org/resource/wikicat_Luton_Town_F.C._players',\n",
       "  'http://yago-knowledge.org/resource/wikicat_Croatian_footballers'],\n",
       " 'http://yago-knowledge.org/resource/LG_Twins': ['http://yago-knowledge.org/resource/wordnet_baseball_team_108079319',\n",
       "  'http://yago-knowledge.org/resource/wikicat_Korea_Professional_Baseball_teams',\n",
       "  'http://yago-knowledge.org/resource/wikicat_Sports_clubs_established_in_1990'],\n",
       " 'http://yago-knowledge.org/resource/Ahmet_Sağlam': ['http://yago-knowledge.org/resource/wikicat_People_from_Bonn',\n",
       "  'http://yago-knowledge.org/resource/wikicat_Eskişehirspor_footballers',\n",
       "  'http://yago-knowledge.org/resource/wikicat_German_people_of_Turkish_descent',\n",
       "  'http://yago-knowledge.org/resource/wikicat_Göztepe_footballers',\n",
       "  'http://yago-knowledge.org/resource/wikicat_German_footballers']}"
      ]
     },
     "execution_count": 22,
     "metadata": {},
     "output_type": "execute_result"
    }
   ],
   "source": [
    "{k: list(v)[:5] for k, v in list(instances.items())[:5]}"
   ]
  },
  {
   "cell_type": "code",
   "execution_count": 23,
   "id": "17f9a578-7cf6-4091-8f30-815db9049c37",
   "metadata": {},
   "outputs": [
    {
     "name": "stdout",
     "output_type": "stream",
     "text": [
      "Nb of entity in total: 123182\n",
      "Nb of entity with at least a known type: 121009\n",
      "Nb of entity without any known type: 2173\n"
     ]
    }
   ],
   "source": [
    "print(\"Nb of entity in total:\", len(ents))\n",
    "print(\"Nb of entity with at least a known type:\", len(instances.items()))\n",
    "print(\"Nb of entity without any known type:\", len(ents) - len(instances.items()))"
   ]
  },
  {
   "cell_type": "code",
   "execution_count": 24,
   "id": "d908cb71-f76f-43ef-8322-bcd02e282d1a",
   "metadata": {},
   "outputs": [
    {
     "name": "stdout",
     "output_type": "stream",
     "text": [
      "Nb of types per entity 1 101\n"
     ]
    }
   ],
   "source": [
    "nb_types=sorted(list(set([len(v) for v in instances.values()])))\n",
    "print(\"Nb of types per entity\", min(nb_types), max(nb_types))"
   ]
  },
  {
   "cell_type": "markdown",
   "id": "cc89b84f-5e34-4708-9d32-2a888f29d023",
   "metadata": {},
   "source": [
    "# Domain / Range information"
   ]
  },
  {
   "cell_type": "code",
   "execution_count": 26,
   "id": "e4aab398-0ef7-4aa5-b39f-18397fe28ffa",
   "metadata": {},
   "outputs": [
    {
     "name": "stderr",
     "output_type": "stream",
     "text": [
      "100%|████████████████████████████████████████████████████████████████████████████████████████| 985/985 [00:00<?, ?it/s]\n"
     ]
    }
   ],
   "source": [
    "subproperties={}\n",
    "\n",
    "nb_lines=sum(1 for _ in open(f\"{YAGO3}yago-3.0.2-turtle-simple/yagoSchema.ttl\", \"r\", encoding=\"utf-8\"))\n",
    "with open(f\"{YAGO3}yago-3.0.2-turtle-simple/yagoSchema.ttl\", \"r\", encoding='utf-8') as r:\n",
    "    with tqdm(enumerate(r), total=nb_lines) as bar:\n",
    "        for i, line in bar:\n",
    "            if not line.startswith(\"<\"):\n",
    "                continue\n",
    "            s, p, o, *_ = line.strip().split(\"\\t\")\n",
    "\n",
    "            if not p == \"rdfs:subPropertyOf\":\n",
    "                continue\n",
    "\n",
    "            if not s.startswith(\"<\"):\n",
    "                continue\n",
    "\n",
    "            if not o.startswith(\"<\"):\n",
    "                continue\n",
    "\n",
    "            s = f\"http://yago-knowledge.org/resource/{s[1:-1]}\"\n",
    "            o = f\"http://yago-knowledge.org/resource/{o[1:-1]}\"\n",
    "\n",
    "            if p == \"rdfs:subPropertyOf\":\n",
    "                if not s in subproperties.keys():\n",
    "                    subproperties[s]=set([])\n",
    "                subproperties[s].add(o)"
   ]
  },
  {
   "cell_type": "code",
   "execution_count": 27,
   "id": "3fbc1d51-635d-47b7-abde-368c0e7d3f3e",
   "metadata": {},
   "outputs": [],
   "source": [
    "def subsumption_closure(c, hierarchy):\n",
    "    if not c in hierarchy.keys():\n",
    "        return [c]\n",
    "    else:\n",
    "        result = [c]\n",
    "        for sc in hierarchy[c]:\n",
    "            result.extend(subsumption_closure(sc, hierarchy))\n",
    "        return result"
   ]
  },
  {
   "cell_type": "code",
   "execution_count": 28,
   "id": "8efb9ce8-a040-4ca5-bc6c-7d9d581bca64",
   "metadata": {},
   "outputs": [],
   "source": [
    "subproperty_closure={\n",
    "    rel: set(subsumption_closure(rel, subproperties))\n",
    "    for rel in rels\n",
    "}"
   ]
  },
  {
   "cell_type": "code",
   "execution_count": 29,
   "id": "a85b5e2a-d71a-41c7-a53f-08f05808dbb1",
   "metadata": {},
   "outputs": [],
   "source": [
    "properties_of_interest=set(subproperty_closure.keys()).union(*list(subproperty_closure.values()))"
   ]
  },
  {
   "cell_type": "code",
   "execution_count": 30,
   "id": "fed3eb68-892a-4635-ba8d-303d73713f69",
   "metadata": {},
   "outputs": [
    {
     "name": "stderr",
     "output_type": "stream",
     "text": [
      "100%|████████████████████████████████████████████████████████████████████████████████████████| 985/985 [00:00<?, ?it/s]\n"
     ]
    }
   ],
   "source": [
    "domains={}\n",
    "ranges={}\n",
    "\n",
    "nb_lines=sum(1 for _ in open(f\"{YAGO3}yago-3.0.2-turtle-simple/yagoSchema.ttl\", \"r\", encoding=\"utf-8\"))\n",
    "with open(f\"{YAGO3}yago-3.0.2-turtle-simple/yagoSchema.ttl\", \"r\", encoding='utf-8') as r:\n",
    "    with tqdm(enumerate(r), total=nb_lines) as bar:\n",
    "        for i, line in bar:\n",
    "            if not line.startswith(\"<\"):\n",
    "                continue\n",
    "            s, p, o, *_ = line.strip().split(\"\\t\")\n",
    "\n",
    "            if not p in [\"rdfs:domain\", \"rdfs:range\", \"rdfs:subPropertyOf\"]:\n",
    "                continue\n",
    "\n",
    "            if not s.startswith(\"<\"):\n",
    "                continue\n",
    "\n",
    "            if not o.startswith(\"<\"):\n",
    "                continue\n",
    "\n",
    "            s = f\"http://yago-knowledge.org/resource/{s[1:-1]}\"\n",
    "            o = f\"http://yago-knowledge.org/resource/{o[1:-1]}\"\n",
    "\n",
    "            if not s in properties_of_interest:\n",
    "                continue\n",
    "\n",
    "            if p == \"rdfs:domain\":\n",
    "                if not s in domains.keys():\n",
    "                    domains[s]=set([])\n",
    "                domains[s].add(o)\n",
    "\n",
    "            if p == \"rdfs:range\":\n",
    "                if not s in ranges.keys():\n",
    "                    ranges[s]=set([])\n",
    "                ranges[s].add(o)"
   ]
  },
  {
   "cell_type": "code",
   "execution_count": 31,
   "id": "c725dcdb-f162-4013-bae0-0a400e41d411",
   "metadata": {},
   "outputs": [],
   "source": [
    "domains={\n",
    "    rel: set([]).union(*[\n",
    "        domains.get(super_rel, set([]))\n",
    "        for super_rel in subproperty_closure[rel]\n",
    "    ])\n",
    "    for rel in rels\n",
    "}\n",
    "domains={k: v for k, v in domains.items() if len(v) > 0}\n",
    "\n",
    "ranges={\n",
    "    rel: set([]).union(*[\n",
    "        ranges.get(super_rel, set([]))\n",
    "        for super_rel in subproperty_closure[rel]\n",
    "    ])\n",
    "    for rel in rels\n",
    "}\n",
    "ranges={k: v for k, v in ranges.items() if len(v) > 0}"
   ]
  },
  {
   "cell_type": "code",
   "execution_count": 32,
   "id": "ae8afba9-41ba-46ec-9d7a-b9184bd78776",
   "metadata": {},
   "outputs": [
    {
     "name": "stdout",
     "output_type": "stream",
     "text": [
      "Max number of domains per property: 1\n",
      "Max number of ranges per property: 1\n"
     ]
    }
   ],
   "source": [
    "print(\"Max number of domains per property:\", max([len(x) for x in domains.values()]))\n",
    "print(\"Max number of ranges per property:\", max([len(x) for x in ranges.values()]))"
   ]
  },
  {
   "cell_type": "code",
   "execution_count": 33,
   "id": "8a8e64db-defe-47cb-bb63-ec856fdbad7b",
   "metadata": {},
   "outputs": [
    {
     "name": "stdout",
     "output_type": "stream",
     "text": [
      "Nb of predicates 37\n",
      "Nb of domained predicates 37\n",
      "Nb of ranged predicates 28\n"
     ]
    }
   ],
   "source": [
    "print(\"Nb of predicates\", len(rels))\n",
    "print(\"Nb of domained predicates\", len(domains.keys()))\n",
    "print(\"Nb of ranged predicates\", len(ranges.keys()))"
   ]
  },
  {
   "cell_type": "code",
   "execution_count": 34,
   "id": "f9e37797-dcd0-4232-a0e2-38c276e7e66f",
   "metadata": {},
   "outputs": [
    {
     "data": {
      "text/plain": [
       "{'http://yago-knowledge.org/resource/livesIn': {'http://yago-knowledge.org/resource/wordnet_person_100007846'},\n",
       " 'http://yago-knowledge.org/resource/hasMusicalRole': {'http://yago-knowledge.org/resource/wordnet_person_100007846'},\n",
       " 'http://yago-knowledge.org/resource/participatedIn': {'http://yago-knowledge.org/resource/yagoLegalActorGeo'},\n",
       " 'http://yago-knowledge.org/resource/wroteMusicFor': {'http://yago-knowledge.org/resource/wordnet_person_100007846'},\n",
       " 'http://yago-knowledge.org/resource/worksAt': {'http://yago-knowledge.org/resource/wordnet_person_100007846'}}"
      ]
     },
     "execution_count": 34,
     "metadata": {},
     "output_type": "execute_result"
    }
   ],
   "source": [
    "{k: v for k, v in list(domains.items())[:5]}"
   ]
  },
  {
   "cell_type": "code",
   "execution_count": 35,
   "id": "813ae129-218e-4a36-bad8-7fa6d1f321dc",
   "metadata": {},
   "outputs": [
    {
     "data": {
      "text/plain": [
       "{'http://yago-knowledge.org/resource/livesIn': {'http://yago-knowledge.org/resource/wordnet_location_100027167'},\n",
       " 'http://yago-knowledge.org/resource/wroteMusicFor': {'http://yago-knowledge.org/resource/wordnet_movie_106613686'},\n",
       " 'http://yago-knowledge.org/resource/worksAt': {'http://yago-knowledge.org/resource/wordnet_organization_108008335'},\n",
       " 'http://yago-knowledge.org/resource/playsFor': {'http://yago-knowledge.org/resource/wordnet_organization_108008335'},\n",
       " 'http://yago-knowledge.org/resource/influences': {'http://yago-knowledge.org/resource/wordnet_person_100007846'}}"
      ]
     },
     "execution_count": 35,
     "metadata": {},
     "output_type": "execute_result"
    }
   ],
   "source": [
    "{k: v for k, v in list(ranges.items())[:5]}"
   ]
  },
  {
   "cell_type": "code",
   "execution_count": 36,
   "id": "cd46fe2a-8fd5-4e0b-b9e3-168051ea5ece",
   "metadata": {},
   "outputs": [],
   "source": [
    "domain_inferences={}\n",
    "\n",
    "for s, po in observed_tails_original_kg.items():\n",
    "    domain_inferences[id2ent[s]]=set([])\n",
    "    for p, _ in po.items():\n",
    "        domain_inferences[id2ent[s]] = domain_inferences[id2ent[s]].union(domains.get(id2rel[p], set([])))\n",
    "\n",
    "domain_inferences={k: v for k, v in domain_inferences.items() if len(v) > 0}"
   ]
  },
  {
   "cell_type": "code",
   "execution_count": 37,
   "id": "f973e0b8-53fe-4eb4-b491-09c9f72be66b",
   "metadata": {},
   "outputs": [
    {
     "data": {
      "text/plain": [
       "{'http://yago-knowledge.org/resource/Branch_County,_Michigan': {'http://yago-knowledge.org/resource/yagoPermanentlyLocatedEntity'},\n",
       " 'http://yago-knowledge.org/resource/Vijayakumar_(actor)': {'http://yago-knowledge.org/resource/wordnet_actor_109765278',\n",
       "  'http://yago-knowledge.org/resource/wordnet_person_100007846',\n",
       "  'http://yago-knowledge.org/resource/yagoLegalActorGeo'},\n",
       " 'http://yago-knowledge.org/resource/Albert,_Prince_Consort': {'http://yago-knowledge.org/resource/wordnet_person_100007846',\n",
       "  'http://yago-knowledge.org/resource/yagoLegalActorGeo'},\n",
       " 'http://yago-knowledge.org/resource/Brian_Green_(footballer)': {'http://yago-knowledge.org/resource/wordnet_person_100007846',\n",
       "  'http://yago-knowledge.org/resource/yagoLegalActor'},\n",
       " 'http://yago-knowledge.org/resource/Washington_County_(Maryland)': {'http://yago-knowledge.org/resource/yagoPermanentlyLocatedEntity'}}"
      ]
     },
     "execution_count": 37,
     "metadata": {},
     "output_type": "execute_result"
    }
   ],
   "source": [
    "n=randint(0, len(domain_inferences.keys())-6)\n",
    "{k: v for k, v in list(domain_inferences.items())[n:n+5]}"
   ]
  },
  {
   "cell_type": "code",
   "execution_count": 38,
   "id": "378a5b0e-3e80-427f-9f91-27987598192e",
   "metadata": {},
   "outputs": [],
   "source": [
    "range_inferences={}\n",
    "\n",
    "for o, ps in observed_heads_original_kg.items():\n",
    "    range_inferences[id2ent[o]]=set([])\n",
    "    for p, _ in ps.items():\n",
    "        range_inferences[id2ent[o]] = range_inferences[id2ent[o]].union(ranges.get(id2rel[p], set([])))\n",
    "\n",
    "range_inferences={k: v for k, v in range_inferences.items() if len(v) > 0}"
   ]
  },
  {
   "cell_type": "code",
   "execution_count": 39,
   "id": "8e33dc90-fca2-4829-8660-b8cf552ee7f3",
   "metadata": {},
   "outputs": [
    {
     "data": {
      "text/plain": [
       "{'http://yago-knowledge.org/resource/University_of_Richmond': {'http://yago-knowledge.org/resource/wordnet_organization_108008335',\n",
       "  'http://yago-knowledge.org/resource/yagoLegalActor'},\n",
       " 'http://yago-knowledge.org/resource/Green_Dolphin_Street': {'http://yago-knowledge.org/resource/wordnet_movie_106613686'},\n",
       " 'http://yago-knowledge.org/resource/FC_Energiya_Chaykovsky': {'http://yago-knowledge.org/resource/wordnet_organization_108008335'},\n",
       " 'http://yago-knowledge.org/resource/Faten_Hamama': {'http://yago-knowledge.org/resource/wordnet_person_100007846'},\n",
       " 'http://yago-knowledge.org/resource/Mesa_County,_Colorado': {'http://yago-knowledge.org/resource/yagoGeoEntity'}}"
      ]
     },
     "execution_count": 39,
     "metadata": {},
     "output_type": "execute_result"
    }
   ],
   "source": [
    "n=randint(0, len(range_inferences.keys())-6)\n",
    "{k: v for k, v in list(range_inferences.items())[n:n+5]}"
   ]
  },
  {
   "cell_type": "code",
   "execution_count": 40,
   "id": "10cc3d69-8070-40e9-82cf-c7b86a96e414",
   "metadata": {},
   "outputs": [],
   "source": [
    "classes_of_interest=set([]).union(*instances.values()).union(*domain_inferences.values()).union(*range_inferences.values())"
   ]
  },
  {
   "cell_type": "code",
   "execution_count": 41,
   "id": "aced884f-827f-47db-89d3-aeb817ee6af8",
   "metadata": {},
   "outputs": [
    {
     "data": {
      "text/plain": [
       "91763"
      ]
     },
     "execution_count": 41,
     "metadata": {},
     "output_type": "execute_result"
    }
   ],
   "source": [
    "len(classes_of_interest)"
   ]
  },
  {
   "cell_type": "code",
   "execution_count": 42,
   "id": "762a13a6-aac9-4a81-b3dc-b5d2efbc812e",
   "metadata": {},
   "outputs": [
    {
     "name": "stderr",
     "output_type": "stream",
     "text": [
      "100%|████████████████████████████████████████████████████████████████████| 1140933/1140933 [00:01<00:00, 580671.54it/s]\n"
     ]
    }
   ],
   "source": [
    "subclasses={}\n",
    "\n",
    "nb_lines=sum(1 for _ in open(f\"{YAGO3}yago-3.0.2-turtle-simple/yagoTaxonomy.ttl\", \"r\", encoding=\"utf-8\"))\n",
    "with open(f\"{YAGO3}yago-3.0.2-turtle-simple/yagoTaxonomy.ttl\", \"r\", encoding='utf-8') as r:\n",
    "    with tqdm(enumerate(r), total=nb_lines) as bar:\n",
    "        for i, line in bar:\n",
    "            if not line.startswith(\"<\"):\n",
    "                continue\n",
    "            s, p, o, *_ = line.strip().split(\"\\t\")\n",
    "\n",
    "            if not p == \"rdfs:subClassOf\":\n",
    "                continue\n",
    "\n",
    "            if not s.startswith(\"<\"):\n",
    "                continue\n",
    "\n",
    "            if not o.startswith(\"<\"):\n",
    "                continue\n",
    "\n",
    "            s = f\"http://yago-knowledge.org/resource/{s[1:-1]}\"\n",
    "            o = f\"http://yago-knowledge.org/resource/{o[1:-1]}\"\n",
    "\n",
    "            if not s in subclasses.keys():\n",
    "                subclasses[s]=set([])\n",
    "\n",
    "            subclasses[s].add(o)"
   ]
  },
  {
   "cell_type": "code",
   "execution_count": 43,
   "id": "81bf2aa0-f51a-4125-a412-af525c1164f6",
   "metadata": {},
   "outputs": [
    {
     "data": {
      "text/plain": [
       "{'http://yago-knowledge.org/resource/wordnet_agape_101028534': {'http://yago-knowledge.org/resource/wordnet_religious_ceremony_101028082'},\n",
       " 'http://yago-knowledge.org/resource/wikicat_Peace_treaties_of_Great_Britain': {'http://yago-knowledge.org/resource/wordnet_peace_106773976'},\n",
       " 'http://yago-knowledge.org/resource/wikicat_Former_National_Forests_of_the_United_States': {'http://yago-knowledge.org/resource/wordnet_forest_108438533'},\n",
       " 'http://yago-knowledge.org/resource/wikicat_Defunct_schools_in_Kingston_upon_Thames': {'http://yago-knowledge.org/resource/wordnet_school_108276720'},\n",
       " 'http://yago-knowledge.org/resource/wikicat_Islands_of_Tierra_del_Fuego': {'http://yago-knowledge.org/resource/wordnet_island_109316454'}}"
      ]
     },
     "execution_count": 43,
     "metadata": {},
     "output_type": "execute_result"
    }
   ],
   "source": [
    "{k: v for k, v in list(subclasses.items())[:5]}"
   ]
  },
  {
   "cell_type": "code",
   "execution_count": 44,
   "id": "ceced0d3-dc91-4814-b38f-fbd2c00ec15e",
   "metadata": {},
   "outputs": [],
   "source": [
    "subclass_closure={\n",
    "    cls: set(subsumption_closure(cls, subclasses))\n",
    "    for cls in classes_of_interest\n",
    "}"
   ]
  },
  {
   "cell_type": "code",
   "execution_count": 45,
   "id": "ca50a4bf-9c8a-4f05-a6fa-b66b0aeef3c5",
   "metadata": {},
   "outputs": [
    {
     "data": {
      "text/plain": [
       "91763"
      ]
     },
     "execution_count": 45,
     "metadata": {},
     "output_type": "execute_result"
    }
   ],
   "source": [
    "len(subclass_closure.keys())"
   ]
  },
  {
   "cell_type": "code",
   "execution_count": 46,
   "id": "ff958954-5087-4148-b8ca-47318ebe4526",
   "metadata": {},
   "outputs": [
    {
     "data": {
      "text/plain": [
       "{'http://yago-knowledge.org/resource/wikicat_Auburn_Tigers_men%27s_basketball_players': ['http://yago-knowledge.org/resource/wordnet_organism_100004475',\n",
       "  'http://yago-knowledge.org/resource/wikicat_Auburn_Tigers_men%27s_basketball_players',\n",
       "  'http://yago-knowledge.org/resource/wordnet_athlete_109820263'],\n",
       " 'http://yago-knowledge.org/resource/wikicat_People_from_Kano': ['http://yago-knowledge.org/resource/wordnet_organism_100004475',\n",
       "  'http://yago-knowledge.org/resource/wikicat_People_from_Kano',\n",
       "  'http://yago-knowledge.org/resource/wordnet_physical_entity_100001930'],\n",
       " 'http://yago-knowledge.org/resource/wikicat_Lone_Star_Soccer_Alliance_players': ['http://yago-knowledge.org/resource/wordnet_organism_100004475',\n",
       "  'http://yago-knowledge.org/resource/wordnet_physical_entity_100001930',\n",
       "  'http://yago-knowledge.org/resource/wikicat_Lone_Star_Soccer_Alliance_players'],\n",
       " 'http://yago-knowledge.org/resource/wikicat_Montreal_Canadiens_coaches': ['http://yago-knowledge.org/resource/wordnet_organism_100004475',\n",
       "  'http://yago-knowledge.org/resource/wordnet_physical_entity_100001930',\n",
       "  'http://yago-knowledge.org/resource/wordnet_coach_109931640'],\n",
       " 'http://yago-knowledge.org/resource/wikicat_Aruban_footballers': ['http://yago-knowledge.org/resource/wordnet_organism_100004475',\n",
       "  'http://yago-knowledge.org/resource/wordnet_athlete_109820263',\n",
       "  'http://yago-knowledge.org/resource/wordnet_physical_entity_100001930']}"
      ]
     },
     "execution_count": 46,
     "metadata": {},
     "output_type": "execute_result"
    }
   ],
   "source": [
    "{k: list(v)[:3] for k, v in list(subclass_closure.items())[:5]}"
   ]
  },
  {
   "cell_type": "code",
   "execution_count": 47,
   "id": "6ef8946c-6d9d-473f-9c0f-3b01377baf08",
   "metadata": {},
   "outputs": [],
   "source": [
    "classes_set=set(subclass_closure.keys()).union(*subclass_closure.values())"
   ]
  },
  {
   "cell_type": "code",
   "execution_count": 48,
   "id": "86dfc80f-3284-4d52-9a49-5f3421a4569d",
   "metadata": {},
   "outputs": [],
   "source": [
    "class2id={cls: i for i, cls in enumerate(classes_set)}\n",
    "id2class = {i: cls for cls, i in class2id.items()}\n",
    "\n",
    "with open(f\"{dest_pkl_folder}class2id.pkl\", \"wb\") as handle:\n",
    "    dump(class2id, handle)"
   ]
  },
  {
   "cell_type": "code",
   "execution_count": 49,
   "id": "7534c4e2-e03d-475f-a0d6-08e249653ac8",
   "metadata": {},
   "outputs": [
    {
     "data": {
      "text/plain": [
       "{0: 84900, 1: 84900, 2: 23427, 3: 84900, 4: 84900}"
      ]
     },
     "execution_count": 49,
     "metadata": {},
     "output_type": "execute_result"
    }
   ],
   "source": [
    "r2id2dom2id = {rel2id[rel]: class2id[list(classes)[0]] for rel, classes in domains.items()}\n",
    "{k: v for k, v in list(r2id2dom2id.items())[:5]}"
   ]
  },
  {
   "cell_type": "code",
   "execution_count": 50,
   "id": "d8df672d-3f45-4d53-8dbc-0ffd6c00a7ac",
   "metadata": {},
   "outputs": [
    {
     "data": {
      "text/plain": [
       "{0: 69999, 3: 39154, 4: 36430, 6: 36430, 7: 84900}"
      ]
     },
     "execution_count": 50,
     "metadata": {},
     "output_type": "execute_result"
    }
   ],
   "source": [
    "r2id2range2id = {rel2id[rel]: class2id[list(classes)[0]] for rel, classes in ranges.items()}\n",
    "{k: v for k, v in list(r2id2range2id.items())[:5]}"
   ]
  },
  {
   "cell_type": "code",
   "execution_count": 51,
   "id": "d71373dd-d590-4e3e-b2be-9c6ff002edd2",
   "metadata": {},
   "outputs": [],
   "source": [
    "with open(f\"{dest_pkl_folder}r2id2dom2id.pkl\", \"wb\") as handle:\n",
    "    dump(r2id2dom2id, handle)\n",
    "\n",
    "with open(f\"{dest_pkl_folder}r2id2range2id.pkl\", \"wb\") as handle:\n",
    "    dump(r2id2range2id, handle)"
   ]
  },
  {
   "cell_type": "code",
   "execution_count": 52,
   "id": "3c8783a9-e332-4d5a-9a19-7ced43c8ea66",
   "metadata": {},
   "outputs": [
    {
     "name": "stderr",
     "output_type": "stream",
     "text": [
      "100%|██████████████████████████████████████████████████████████████████████| 123182/123182 [00:00<00:00, 272319.91it/s]\n"
     ]
    }
   ],
   "source": [
    "instance_no_closure={\n",
    "    ent: [\n",
    "        cls\n",
    "        for cls in instances.get(ent, set([]))\\\n",
    "                    .union(domain_inferences.get(ent, set([])))\\\n",
    "                    .union(range_inferences.get(ent, set([])))\n",
    "    ]\n",
    "    for ent in tqdm(ents)\n",
    "}"
   ]
  },
  {
   "cell_type": "code",
   "execution_count": 53,
   "id": "a9a0af59-0165-4200-ae18-4961da0db3f6",
   "metadata": {},
   "outputs": [
    {
     "data": {
      "text/plain": [
       "{'http://yago-knowledge.org/resource/Aleksei_Bugayev': ['http://yago-knowledge.org/resource/wikicat_FC_Tom_Tomsk_players',\n",
       "  'http://yago-knowledge.org/resource/wikicat_FC_Torpedo_Moscow_players',\n",
       "  'http://yago-knowledge.org/resource/wikicat_Russian_footballers',\n",
       "  'http://yago-knowledge.org/resource/wikicat_Russian_Premier_League_players',\n",
       "  'http://yago-knowledge.org/resource/wikicat_FC_Lokomotiv_Moscow_players'],\n",
       " 'http://yago-knowledge.org/resource/Vincent_Planté': ['http://yago-knowledge.org/resource/wikicat_SM_Caen_players',\n",
       "  'http://yago-knowledge.org/resource/wikicat_AS_Cannes_players',\n",
       "  'http://yago-knowledge.org/resource/wikicat_Ligue_1_players',\n",
       "  'http://yago-knowledge.org/resource/wikicat_French_footballers',\n",
       "  'http://yago-knowledge.org/resource/wikicat_AS_Saint-Étienne_players'],\n",
       " 'http://yago-knowledge.org/resource/Anton_Weissenbacher': ['http://yago-knowledge.org/resource/wikicat_FC_Steaua_București_players',\n",
       "  'http://yago-knowledge.org/resource/wikicat_FC_Baia_Mare_players',\n",
       "  'http://yago-knowledge.org/resource/wikicat_SV_Eintracht_Trier_05_players',\n",
       "  'http://yago-knowledge.org/resource/wikicat_FC_Bihor_Oradea_players',\n",
       "  'http://yago-knowledge.org/resource/wikicat_FC_Universitatea_Craiova_players'],\n",
       " 'http://yago-knowledge.org/resource/Mindelo': ['http://yago-knowledge.org/resource/wikicat_Populated_places_in_Cape_Verde',\n",
       "  'http://yago-knowledge.org/resource/yagoPermanentlyLocatedEntity',\n",
       "  'http://yago-knowledge.org/resource/wikicat_Cities_in_Cape_Verde',\n",
       "  'http://yago-knowledge.org/resource/wordnet_administrative_district_108491826',\n",
       "  'http://yago-knowledge.org/resource/wordnet_city_108524735'],\n",
       " 'http://yago-knowledge.org/resource/Lonoke,_Arkansas': ['http://yago-knowledge.org/resource/wikicat_Cities_in_Lonoke_County,_Arkansas',\n",
       "  'http://yago-knowledge.org/resource/yagoGeoEntity',\n",
       "  'http://yago-knowledge.org/resource/yagoPermanentlyLocatedEntity',\n",
       "  'http://yago-knowledge.org/resource/wikicat_Cities_in_Arkansas',\n",
       "  'http://yago-knowledge.org/resource/wikicat_County_seats_in_Arkansas']}"
      ]
     },
     "execution_count": 53,
     "metadata": {},
     "output_type": "execute_result"
    }
   ],
   "source": [
    "{k: list(v)[:5] for k, v in list(instance_no_closure.items())[:5]}"
   ]
  },
  {
   "cell_type": "code",
   "execution_count": 54,
   "id": "2e15e10f-fb45-4bd0-8f4c-a49a4e9706d5",
   "metadata": {},
   "outputs": [],
   "source": [
    "instype={\n",
    "    ent2id[ent]: [class2id[cls] for cls in classes]\n",
    "    for ent, classes in instance_no_closure.items()\n",
    "}"
   ]
  },
  {
   "cell_type": "code",
   "execution_count": 55,
   "id": "2af6ba77-1fd0-45fe-8ff4-15f9bbbcdec7",
   "metadata": {},
   "outputs": [
    {
     "data": {
      "text/plain": [
       "{0: [51062, 68289, 56551, 72293, 93050],\n",
       " 1: [43058, 5948, 28898, 31132, 93720],\n",
       " 2: [92730, 78497, 67795, 87330, 49138],\n",
       " 3: [74514, 19309, 90894, 35171, 51664],\n",
       " 4: [57743, 46617, 19309, 77255, 25263]}"
      ]
     },
     "execution_count": 55,
     "metadata": {},
     "output_type": "execute_result"
    }
   ],
   "source": [
    "{k: list(v)[:5] for k, v in list(instype.items())[:5]}"
   ]
  },
  {
   "cell_type": "code",
   "execution_count": 56,
   "id": "121ced89-a933-4056-ad79-9229209eb375",
   "metadata": {},
   "outputs": [
    {
     "name": "stderr",
     "output_type": "stream",
     "text": [
      "100%|███████████████████████████████████████████████████████████████████████| 123182/123182 [00:01<00:00, 92957.09it/s]\n"
     ]
    }
   ],
   "source": [
    "instance_closure_all={\n",
    "    ent: set([]).union(*[\n",
    "        subclass_closure[cls]\n",
    "        for cls in classes\n",
    "    ])\n",
    "    for ent, classes in tqdm(instance_no_closure.items())\n",
    "}"
   ]
  },
  {
   "cell_type": "code",
   "execution_count": 57,
   "id": "b81504d3-8812-46a8-ab0d-d50a2ad29ccf",
   "metadata": {},
   "outputs": [
    {
     "data": {
      "text/plain": [
       "{'http://yago-knowledge.org/resource/Aleksei_Bugayev': ['http://yago-knowledge.org/resource/wikicat_FC_Tom_Tomsk_players',\n",
       "  'http://yago-knowledge.org/resource/wikicat_Russian_footballers',\n",
       "  'http://yago-knowledge.org/resource/wordnet_contestant_109613191',\n",
       "  'http://yago-knowledge.org/resource/wikicat_Russian_Premier_League_players',\n",
       "  'http://yago-knowledge.org/resource/wordnet_causal_agent_100007347'],\n",
       " 'http://yago-knowledge.org/resource/Vincent_Planté': ['http://yago-knowledge.org/resource/wikicat_AS_Saint-Étienne_players',\n",
       "  'http://yago-knowledge.org/resource/wikicat_AC_Arles-Avignon_players',\n",
       "  'http://yago-knowledge.org/resource/wordnet_organism_100004475',\n",
       "  'http://yago-knowledge.org/resource/wordnet_physical_entity_100001930',\n",
       "  'http://yago-knowledge.org/resource/wordnet_athlete_109820263'],\n",
       " 'http://yago-knowledge.org/resource/Anton_Weissenbacher': ['http://yago-knowledge.org/resource/wordnet_preserver_110466918',\n",
       "  'http://yago-knowledge.org/resource/wikicat_Romanian_people_of_German_descent',\n",
       "  'http://yago-knowledge.org/resource/wordnet_contestant_109613191',\n",
       "  'http://yago-knowledge.org/resource/wordnet_causal_agent_100007347',\n",
       "  'http://yago-knowledge.org/resource/wordnet_living_thing_100004258'],\n",
       " 'http://yago-knowledge.org/resource/Mindelo': ['http://yago-knowledge.org/resource/yagoPermanentlyLocatedEntity',\n",
       "  'http://yago-knowledge.org/resource/wordnet_region_108630985',\n",
       "  'http://yago-knowledge.org/resource/wordnet_city_108524735',\n",
       "  'http://yago-knowledge.org/resource/yagoGeoEntity',\n",
       "  'http://yago-knowledge.org/resource/wordnet_municipality_108626283'],\n",
       " 'http://yago-knowledge.org/resource/Lonoke,_Arkansas': ['http://yago-knowledge.org/resource/yagoPermanentlyLocatedEntity',\n",
       "  'http://yago-knowledge.org/resource/wordnet_county_seat_108547143',\n",
       "  'http://yago-knowledge.org/resource/wordnet_region_108630985',\n",
       "  'http://yago-knowledge.org/resource/wikicat_Cities_in_Arkansas',\n",
       "  'http://yago-knowledge.org/resource/wordnet_site_108651247']}"
      ]
     },
     "execution_count": 57,
     "metadata": {},
     "output_type": "execute_result"
    }
   ],
   "source": [
    "{k: list(v)[:5] for k, v in list(instance_closure_all.items())[:5]}"
   ]
  },
  {
   "cell_type": "code",
   "execution_count": 58,
   "id": "dccb0fda-a79a-4297-8480-4a2eeefa4530",
   "metadata": {},
   "outputs": [],
   "source": [
    "instype_all={\n",
    "    ent2id[ent]: [class2id[cls] for cls in classes]\n",
    "    for ent, classes in instance_closure_all.items()\n",
    "}"
   ]
  },
  {
   "cell_type": "code",
   "execution_count": 59,
   "id": "2759494c-08bf-49a7-9a43-87f5a6177e4c",
   "metadata": {},
   "outputs": [
    {
     "data": {
      "text/plain": [
       "{0: [51062, 56551, 15845, 72293, 59407],\n",
       " 1: [93720, 30805, 49367, 74269, 30421],\n",
       " 2: [26320, 16652, 15845, 59407, 53958],\n",
       " 3: [19309, 87068, 51664, 46617, 53930],\n",
       " 4: [19309, 91482, 87068, 77255, 5098]}"
      ]
     },
     "execution_count": 59,
     "metadata": {},
     "output_type": "execute_result"
    }
   ],
   "source": [
    "{k: list(v)[:5] for k, v in list(instype_all.items())[:5]}"
   ]
  },
  {
   "cell_type": "code",
   "execution_count": 60,
   "id": "1f0e241d-6885-473c-8ad0-2ed3db9b5743",
   "metadata": {},
   "outputs": [
    {
     "name": "stderr",
     "output_type": "stream",
     "text": [
      "100%|████████████████████████████████████████████████████████████████████████████| 93937/93937 [19:44<00:00, 79.31it/s]\n"
     ]
    }
   ],
   "source": [
    "class2ent={\n",
    "    cls: [\n",
    "        ent\n",
    "        for ent, classes in instance_closure_all.items()\n",
    "        if cls in classes\n",
    "    ]\n",
    "    for cls in tqdm(class2id.keys())\n",
    "}"
   ]
  },
  {
   "cell_type": "code",
   "execution_count": 61,
   "id": "a9b79f77-ef5a-418c-ab67-ed775aefeb65",
   "metadata": {},
   "outputs": [
    {
     "data": {
      "text/plain": [
       "{'http://yago-knowledge.org/resource/wikicat_Auburn_Tigers_men%27s_basketball_players': ['http://yago-knowledge.org/resource/Moochie_Norris',\n",
       "  'http://yago-knowledge.org/resource/Adam_Harrington_(basketball)',\n",
       "  'http://yago-knowledge.org/resource/Chris_Morris_(basketball)',\n",
       "  'http://yago-knowledge.org/resource/Pat_Burke',\n",
       "  'http://yago-knowledge.org/resource/Mike_Mitchell_(basketball,_born_1956)'],\n",
       " 'http://yago-knowledge.org/resource/wikicat_People_from_Kano': ['http://yago-knowledge.org/resource/Kelvin_Etuhu',\n",
       "  'http://yago-knowledge.org/resource/Ismail_Yakubu',\n",
       "  'http://yago-knowledge.org/resource/Dickson_Etuhu'],\n",
       " 'http://yago-knowledge.org/resource/wikicat_Lone_Star_Soccer_Alliance_players': ['http://yago-knowledge.org/resource/Thomas_Rongen',\n",
       "  'http://yago-knowledge.org/resource/Austin_Hudson_(soccer)',\n",
       "  'http://yago-knowledge.org/resource/Cliff_Brown_(soccer)'],\n",
       " 'http://yago-knowledge.org/resource/wikicat_Montreal_Canadiens_coaches': ['http://yago-knowledge.org/resource/Vincent_Riendeau',\n",
       "  'http://yago-knowledge.org/resource/Claude_Julien_(ice_hockey)',\n",
       "  'http://yago-knowledge.org/resource/Roland_Melanson',\n",
       "  'http://yago-knowledge.org/resource/Al_MacNeil'],\n",
       " 'http://yago-knowledge.org/resource/wikicat_Aruban_footballers': ['http://yago-knowledge.org/resource/Hedwiges_Maduro',\n",
       "  'http://yago-knowledge.org/resource/Ronny_Nouwen',\n",
       "  'http://yago-knowledge.org/resource/Reinhard_Breinburg']}"
      ]
     },
     "execution_count": 61,
     "metadata": {},
     "output_type": "execute_result"
    }
   ],
   "source": [
    "{k: list(v)[:5] for k, v in list(class2ent.items())[:5]}"
   ]
  },
  {
   "cell_type": "code",
   "execution_count": 62,
   "id": "96e26de7-7312-4e64-b8b9-b75ae4fa9035",
   "metadata": {},
   "outputs": [
    {
     "name": "stderr",
     "output_type": "stream",
     "text": [
      "100%|████████████████████████████████████████████████████████████████████████| 93937/93937 [00:00<00:00, 187473.78it/s]\n"
     ]
    }
   ],
   "source": [
    "class2id2ent2id={\n",
    "    class2id[cls]: [ent2id[ent] for ent in ent_list]\n",
    "    for cls, ent_list in tqdm(class2ent.items())\n",
    "}"
   ]
  },
  {
   "cell_type": "code",
   "execution_count": 63,
   "id": "003e05de-5f3e-4263-8ba4-8856088680ca",
   "metadata": {},
   "outputs": [
    {
     "data": {
      "text/plain": [
       "{0: [21480, 32495, 38704, 55757, 55954],\n",
       " 1: [31710, 88368, 90638],\n",
       " 2: [56823, 61506, 90093],\n",
       " 3: [17299, 64109, 100455, 106490],\n",
       " 4: [66358, 71315, 89738]}"
      ]
     },
     "execution_count": 63,
     "metadata": {},
     "output_type": "execute_result"
    }
   ],
   "source": [
    "{k: list(v)[:5] for k, v in list(class2id2ent2id.items())[:5]}"
   ]
  },
  {
   "cell_type": "code",
   "execution_count": 64,
   "id": "57e5667b-7d17-47ea-94cd-964b4d13eafa",
   "metadata": {},
   "outputs": [],
   "source": [
    "with open(f\"{dest_pkl_folder}instype.pkl\", \"wb\") as handle:\n",
    "    dump(instype, handle)\n",
    "\n",
    "with open(f\"{dest_pkl_folder}instype_all.pkl\", \"wb\") as handle:\n",
    "    dump(instype_all, handle)\n",
    "\n",
    "with open(f\"{dest_pkl_folder}class2id2ent2id.pkl\", \"wb\") as handle:\n",
    "    dump(class2id2ent2id, handle)"
   ]
  }
 ],
 "metadata": {
  "kernelspec": {
   "display_name": "datasets",
   "language": "python",
   "name": "datasets"
  },
  "language_info": {
   "codemirror_mode": {
    "name": "ipython",
    "version": 3
   },
   "file_extension": ".py",
   "mimetype": "text/x-python",
   "name": "python",
   "nbconvert_exporter": "python",
   "pygments_lexer": "ipython3",
   "version": "3.12.4"
  }
 },
 "nbformat": 4,
 "nbformat_minor": 5
}
